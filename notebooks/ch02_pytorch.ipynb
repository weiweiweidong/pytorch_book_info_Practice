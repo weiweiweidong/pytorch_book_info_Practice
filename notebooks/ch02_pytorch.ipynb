{
  "nbformat": 4,
  "nbformat_minor": 0,
  "metadata": {
    "colab": {
      "provenance": [],
      "toc_visible": true
    },
    "kernelspec": {
      "display_name": "Python 3",
      "language": "python",
      "name": "python3"
    },
    "language_info": {
      "codemirror_mode": {
        "name": "ipython",
        "version": 3
      },
      "file_extension": ".py",
      "mimetype": "text/x-python",
      "name": "python",
      "nbconvert_exporter": "python",
      "pygments_lexer": "ipython3",
      "version": "3.8.5"
    }
  },
  "cells": [
    {
      "cell_type": "markdown",
      "metadata": {
        "id": "y-enheccNr_a"
      },
      "source": [
        "# 2章 PyTorch入門"
      ]
    },
    {
      "cell_type": "code",
      "metadata": {
        "id": "vViOXOAVNr_d"
      },
      "source": [
        "# 必要ライブラリの導入\n",
        "\n",
        "!pip install japanize_matplotlib | tail -n 1\n",
        "!pip install torchviz | tail -n 1"
      ],
      "execution_count": null,
      "outputs": []
    },
    {
      "cell_type": "code",
      "metadata": {
        "id": "jfMls7nCNr_e"
      },
      "source": [
        "# 必要ライブラリのインポート\n",
        "\n",
        "%matplotlib inline\n",
        "import numpy as np\n",
        "import matplotlib.pyplot as plt\n",
        "import japanize_matplotlib\n",
        "from IPython.display import display"
      ],
      "execution_count": null,
      "outputs": []
    },
    {
      "cell_type": "code",
      "metadata": {
        "id": "pU48DdrNNr_e"
      },
      "source": [
        "# デフォルトフォントサイズ変更\n",
        "plt.rcParams['font.size'] = 14\n",
        "\n",
        "# デフォルトグラフサイズ変更\n",
        "plt.rcParams['figure.figsize'] = (6,6)\n",
        "\n",
        "# デフォルトで方眼表示ON\n",
        "plt.rcParams['axes.grid'] = True"
      ],
      "execution_count": null,
      "outputs": []
    },
    {
      "cell_type": "markdown",
      "metadata": {
        "id": "9rmD_Xk2Nr_f"
      },
      "source": [
        "## 2.2 テンソル"
      ]
    },
    {
      "cell_type": "markdown",
      "metadata": {
        "id": "IB73VStvNr_f"
      },
      "source": [
        "### ライブラリインポート"
      ]
    },
    {
      "cell_type": "code",
      "metadata": {
        "id": "VO_-PyPRNr_f",
        "scrolled": true
      },
      "source": [
        "# PyTorchライブラリ\n",
        "\n",
        "import torch"
      ],
      "execution_count": null,
      "outputs": []
    },
    {
      "cell_type": "markdown",
      "metadata": {
        "id": "vc5dvrZgNr_f"
      },
      "source": [
        "### いろいろな階数のTensorを作る"
      ]
    },
    {
      "cell_type": "code",
      "metadata": {
        "id": "4I1RggAmNr_g"
      },
      "source": [
        "# 0階テンソル (スカラー)\n",
        "r0 = torch.tensor(1.0).float()\n",
        "\n",
        "# typeを調べる\n",
        "print(type(r0))\n",
        "\n",
        "# dtypeを調べる\n",
        "print(r0.dtype)"
      ],
      "execution_count": null,
      "outputs": []
    },
    {
      "cell_type": "code",
      "metadata": {
        "id": "-VgfrubLNr_g"
      },
      "source": [
        "# shapeを調べる\n",
        "print(r0.shape)\n",
        "\n",
        "# データを調べる\n",
        "print(r0.data)"
      ],
      "execution_count": null,
      "outputs": []
    },
    {
      "cell_type": "code",
      "metadata": {
        "id": "X0D_1LNKNr_g"
      },
      "source": [
        "# 1階テンソル (ベクトル)\n",
        "\n",
        "# 1階のNumPy変数作成\n",
        "r1_np = np.array([1, 2, 3, 4, 5])\n",
        "print(r1_np.shape)\n",
        "\n",
        "# NumPyからテンソルに変換\n",
        "r1 = torch.tensor(r1_np).float()\n",
        "\n",
        "# dtypeを調べる\n",
        "print(r1.dtype)\n",
        "\n",
        "# shapeを調べる\n",
        "print(r1.shape)\n",
        "\n",
        "# データを調べる\n",
        "print(r1.data)"
      ],
      "execution_count": null,
      "outputs": []
    },
    {
      "cell_type": "code",
      "metadata": {
        "id": "VamMmZJYNr_h"
      },
      "source": [
        "# 2階テンソル (行列)\n",
        "\n",
        "# 2階のNmPy変数作成\n",
        "r2_np = np.array([[1, 5, 6], [4, 3, 2]])\n",
        "print(r2_np.shape)\n",
        "\n",
        "# NumPyからテンソルに変換\n",
        "r2 = torch.tensor(r2_np).float()\n",
        "\n",
        "# shapeを調べる\n",
        "print(r2.shape)\n",
        "\n",
        "# データを調べる\n",
        "print(r2.data)"
      ],
      "execution_count": null,
      "outputs": []
    },
    {
      "cell_type": "code",
      "metadata": {
        "id": "2X7xX5adNr_h"
      },
      "source": [
        "# ３階テンソル\n",
        "\n",
        "# 乱数seedの初期化\n",
        "torch.manual_seed(123)\n",
        "\n",
        "# shape=[3,2,2]の正規分布変数テンソルを作る\n",
        "r3 = torch.randn((3, 2, 2))\n",
        "\n",
        "# shapeを調べる\n",
        "print(r3.shape)\n",
        "\n",
        "# データを調べる\n",
        "print(r3.data)"
      ],
      "execution_count": null,
      "outputs": []
    },
    {
      "cell_type": "code",
      "metadata": {
        "id": "bUB69bIeNr_h"
      },
      "source": [
        "# 4階テンソル\n",
        "\n",
        "# shape=[2,3,2,2]の要素がすべて1のテンソルを作る\n",
        "r4 = torch.ones((2, 3, 2, 2))\n",
        "\n",
        "# shapeを調べる\n",
        "print(r4.shape)\n",
        "\n",
        "# データを調べる\n",
        "print(r4.data)"
      ],
      "execution_count": null,
      "outputs": []
    },
    {
      "cell_type": "markdown",
      "metadata": {
        "id": "f9-sP0S1Nr_i"
      },
      "source": [
        "### 整数型テンソルを作る"
      ]
    },
    {
      "cell_type": "code",
      "metadata": {
        "id": "R-0ZFcwrNr_i"
      },
      "source": [
        "r5 = r1.long()\n",
        "\n",
        "# dtype　を確認\n",
        "print(r5.dtype)\n",
        "\n",
        "# 値を確認\n",
        "print(r5)"
      ],
      "execution_count": null,
      "outputs": []
    },
    {
      "cell_type": "markdown",
      "metadata": {
        "id": "xBG7lLjANr_i"
      },
      "source": [
        "### view関数"
      ]
    },
    {
      "cell_type": "code",
      "metadata": {
        "id": "LPPH3l5sNr_i"
      },
      "source": [
        "# 2階化\n",
        "# 要素数に-1を指定すると、この数を自動調整する\n",
        "\n",
        "r6 = r3.view(3, -1)\n",
        "\n",
        "# shape確認\n",
        "print(r6.shape)\n",
        "\n",
        "# 値確認\n",
        "print(r6.data)"
      ],
      "execution_count": null,
      "outputs": []
    },
    {
      "cell_type": "code",
      "metadata": {
        "id": "BXeVtrWVNr_i",
        "scrolled": false
      },
      "source": [
        "# 1階化\n",
        "# 要素数に-1を指定すると、この数を自動調整する\n",
        "\n",
        "r7 = r3.view(-1)\n",
        "\n",
        "# shape確認\n",
        "print(r7.shape)\n",
        "\n",
        "# 値確認\n",
        "print(r7.data)"
      ],
      "execution_count": null,
      "outputs": []
    },
    {
      "cell_type": "markdown",
      "metadata": {
        "id": "Xv5pRJK1Nr_j"
      },
      "source": [
        "### それ以外の属性"
      ]
    },
    {
      "cell_type": "code",
      "metadata": {
        "id": "5ZYg-dcENr_j"
      },
      "source": [
        "# requires_grad属性\n",
        "print('requires_grad: ', r1.requires_grad)\n",
        "\n",
        "# device属性\n",
        "print('device: ', r1.device)"
      ],
      "execution_count": null,
      "outputs": []
    },
    {
      "cell_type": "markdown",
      "metadata": {
        "id": "0g-6LRsnNr_j"
      },
      "source": [
        "### item関数"
      ]
    },
    {
      "cell_type": "code",
      "metadata": {
        "id": "Tu3wXoDFNr_j",
        "scrolled": false
      },
      "source": [
        "# スカラーテンソル(0階テンソル)に対してはitem関数で値を取り出せる\n",
        "\n",
        "item = r0.item()\n",
        "\n",
        "print(type(item))\n",
        "print(item)"
      ],
      "execution_count": null,
      "outputs": []
    },
    {
      "cell_type": "code",
      "metadata": {
        "id": "zwi8v5C0Nr_j"
      },
      "source": [
        "# 0階以外のテンソルにitem関数は無効\n",
        "\n",
        "print(r1.item())"
      ],
      "execution_count": null,
      "outputs": []
    },
    {
      "cell_type": "code",
      "metadata": {
        "id": "dvE5Cy3iNr_k"
      },
      "source": [
        "# 要素数が1つだけの1階テンソルはOK\n",
        "# (2階以上でも同様)\n",
        "t1 = torch.ones(1)\n",
        "\n",
        "# shape確認\n",
        "print(t1.shape)\n",
        "\n",
        "# item関数呼び出し\n",
        "print(t1.item())"
      ],
      "execution_count": null,
      "outputs": []
    },
    {
      "cell_type": "markdown",
      "metadata": {
        "id": "JnrnIuI-Nr_k"
      },
      "source": [
        "### max関数"
      ]
    },
    {
      "cell_type": "code",
      "metadata": {
        "id": "bwyLGh_SNr_k"
      },
      "source": [
        "# 元テンソルr2の確認\n",
        "print(r2)\n",
        "\n",
        "# max関数を引数なしで呼び出すと、全体の最大値が取得できる\n",
        "print(r2.max())"
      ],
      "execution_count": null,
      "outputs": []
    },
    {
      "cell_type": "code",
      "metadata": {
        "id": "kLkNmIS9Nr_k"
      },
      "source": [
        "# torch.max関数\n",
        "# 2つめの引数はどの軸で集約するかを意味する\n",
        "print(torch.max(r2, 1))"
      ],
      "execution_count": null,
      "outputs": []
    },
    {
      "cell_type": "code",
      "metadata": {
        "id": "lwiblU1vNr_l"
      },
      "source": [
        "# 何番目の要素が最大値をとるかは、indicesを調べればいい\n",
        "# 以下の計算は、多値分類で予測ラベルを求めるときによく利用されるパターン\n",
        "print(torch.max(r2, 1)[1])"
      ],
      "execution_count": null,
      "outputs": []
    },
    {
      "cell_type": "markdown",
      "metadata": {
        "id": "W-CE04b7Nr_l"
      },
      "source": [
        "### NumPy変数への変換"
      ]
    },
    {
      "cell_type": "code",
      "metadata": {
        "id": "WPimA-EMNr_l"
      },
      "source": [
        "# NumPy化\n",
        "r2_np = r2.data.numpy()\n",
        "\n",
        "# type 確認\n",
        "print(type(r2_np))\n",
        "\n",
        "# 値確認\n",
        "print(r2_np)"
      ],
      "execution_count": null,
      "outputs": []
    },
    {
      "cell_type": "markdown",
      "metadata": {
        "id": "85on1hQ4Nr_l"
      },
      "source": [
        "## 2.4 ２次関数の勾配計算"
      ]
    },
    {
      "cell_type": "markdown",
      "metadata": {
        "id": "YiUz1baKNr_l"
      },
      "source": [
        " ### データ準備"
      ]
    },
    {
      "cell_type": "code",
      "metadata": {
        "id": "2K1rvdhiNr_l"
      },
      "source": [
        "# xをnumpy配列で定義\n",
        "x_np = np.arange(-2, 2.1, 0.25)\n",
        "\n",
        "# xの値表示\n",
        "print(x_np)"
      ],
      "execution_count": null,
      "outputs": []
    },
    {
      "cell_type": "code",
      "metadata": {
        "id": "H_YBx-t9Nr_m"
      },
      "source": [
        "# (1) 勾配計算用変数の定義\n",
        "x = torch.tensor(x_np, requires_grad=True, \n",
        "    dtype=torch.float32)\n",
        "\n",
        "# 結果確認\n",
        "print(x)"
      ],
      "execution_count": null,
      "outputs": []
    },
    {
      "cell_type": "markdown",
      "metadata": {
        "id": "oos9Q69GNr_m"
      },
      "source": [
        "### ２次関数の計算"
      ]
    },
    {
      "cell_type": "code",
      "metadata": {
        "id": "ky1X5hPHNr_m"
      },
      "source": [
        "# 2次関数の計算\n",
        "# 裏で計算グラフが自動生成される\n",
        "\n",
        "y = 2 * x**2 + 2"
      ],
      "execution_count": null,
      "outputs": []
    },
    {
      "cell_type": "markdown",
      "metadata": {
        "id": "iiL8-98INr_m"
      },
      "source": [
        "$ y = 2x^2 + 2$ を意味する"
      ]
    },
    {
      "cell_type": "code",
      "metadata": {
        "id": "m0Pwm9jUNr_m"
      },
      "source": [
        "# yの計算結果確認\n",
        "\n",
        "print(y)"
      ],
      "execution_count": null,
      "outputs": []
    },
    {
      "cell_type": "code",
      "metadata": {
        "id": "-ONyC7tSNr_m"
      },
      "source": [
        "# グラフ描画\n",
        "\n",
        "plt.plot(x.data, y.data)\n",
        "plt.show()"
      ],
      "execution_count": null,
      "outputs": []
    },
    {
      "cell_type": "code",
      "metadata": {
        "id": "L9S2STdKNr_n"
      },
      "source": [
        "# 勾配計算のため、sum 関数で 1階テンソルの関数値をスカラー化する\n",
        "# (sum 関数を各要素で偏微分した結果は1なので、元の関数の微分結果を取得可能 ) \n",
        "# ( 詳細はサポートサイトの解説を参照のこと )\n",
        "\n",
        "z = y.sum()"
      ],
      "execution_count": null,
      "outputs": []
    },
    {
      "cell_type": "code",
      "metadata": {
        "id": "HcLI2RtkNr_n"
      },
      "source": [
        "# (3) 計算グラフの可視化\n",
        "\n",
        "# 必要ライブラリのインポート\n",
        "from torchviz import make_dot\n",
        "\n",
        "# 可視化関数の呼び出し\n",
        "g= make_dot(z, params={'x': x})\n",
        "display(g)"
      ],
      "execution_count": null,
      "outputs": []
    },
    {
      "cell_type": "code",
      "metadata": {
        "id": "Cugbjt5WNr_n"
      },
      "source": [
        "# (4) 勾配計算\n",
        "\n",
        "z.backward()"
      ],
      "execution_count": null,
      "outputs": []
    },
    {
      "cell_type": "code",
      "metadata": {
        "id": "Po4-vTPPNr_n"
      },
      "source": [
        "# (5) 勾配値の取得\n",
        "\n",
        "print(x.grad)"
      ],
      "execution_count": null,
      "outputs": []
    },
    {
      "cell_type": "code",
      "metadata": {
        "id": "ZaZ5KFSINr_o"
      },
      "source": [
        "# 元の関数と勾配のグラフ化\n",
        "\n",
        "plt.plot(x.data, y.data, c='b', label='y')\n",
        "plt.plot(x.data, x.grad.data, c='k', label='y.grad')\n",
        "plt.legend()\n",
        "plt.show()"
      ],
      "execution_count": null,
      "outputs": []
    },
    {
      "cell_type": "markdown",
      "metadata": {
        "id": "m5VKJUI0Nr_o"
      },
      "source": [
        "元の関数が2次関数なので、勾配計算の結果が直線になるのは、妥当な結果"
      ]
    },
    {
      "cell_type": "markdown",
      "metadata": {
        "id": "nrBbdRIvNr_o"
      },
      "source": [
        "ここでもう一度勾配計算をしてみる。"
      ]
    },
    {
      "cell_type": "code",
      "metadata": {
        "id": "dOHxzxi0Nr_o"
      },
      "source": [
        "# 勾配の初期化せずに２度目の勾配計算\n",
        "\n",
        "y = 2 * x**2 + 2\n",
        "z = y.sum()\n",
        "z.backward()\n",
        "\n",
        "# xの勾配確認\n",
        "print(x.grad)"
      ],
      "execution_count": null,
      "outputs": []
    },
    {
      "cell_type": "markdown",
      "metadata": {
        "id": "MFsyjUPXNr_o"
      },
      "source": [
        "勾配値は、勾配計算の結果がどんどん加算されてしまう。そのため新しい値を計算したい場合、勾配値のリセットが必要。"
      ]
    },
    {
      "cell_type": "code",
      "metadata": {
        "id": "FURKt3aENr_p"
      },
      "source": [
        "# (6) 勾配の初期化は関数 zero_()を使う\n",
        "\n",
        "x.grad.zero_()\n",
        "print(x.grad)"
      ],
      "execution_count": null,
      "outputs": []
    },
    {
      "cell_type": "markdown",
      "metadata": {
        "id": "F-TnTbjtNr_p"
      },
      "source": [
        "## 2.5 シグモイド関数の勾配計算"
      ]
    },
    {
      "cell_type": "markdown",
      "metadata": {
        "id": "rCQYN3jGNr_p"
      },
      "source": [
        "シグモイド関数は数式で表すと次の形になるが今回はPyTorchで提供されている関数を利用する  \n",
        "$ y = \\dfrac{1}{1 + \\exp{(-x)}} $"
      ]
    },
    {
      "cell_type": "code",
      "metadata": {
        "id": "sl8mxsr7Nr_p"
      },
      "source": [
        "# シグモイド関数の定義\n",
        "sigmoid = torch.nn.Sigmoid()"
      ],
      "execution_count": null,
      "outputs": []
    },
    {
      "cell_type": "code",
      "metadata": {
        "id": "tT7wMVDuNr_p"
      },
      "source": [
        "# (2) yの値の計算\n",
        "\n",
        "y = sigmoid(x)"
      ],
      "execution_count": null,
      "outputs": []
    },
    {
      "cell_type": "code",
      "metadata": {
        "id": "ssP2qjhGNr_p"
      },
      "source": [
        "# グラフ描画\n",
        "\n",
        "plt.plot(x.data, y.data)\n",
        "plt.show()"
      ],
      "execution_count": null,
      "outputs": []
    },
    {
      "cell_type": "code",
      "metadata": {
        "id": "XMXYmt8WNr_q"
      },
      "source": [
        "# 勾配計算のためには、最終値はスカラーの必要があるため、ダミーでsum関数をかける\n",
        "\n",
        "z = y.sum()"
      ],
      "execution_count": null,
      "outputs": []
    },
    {
      "cell_type": "code",
      "metadata": {
        "id": "w3H-6V13Nr_q"
      },
      "source": [
        "# (3) 計算グラフの可視化\n",
        "\n",
        "g = make_dot(z, params={'x': x})\n",
        "display(g)"
      ],
      "execution_count": null,
      "outputs": []
    },
    {
      "cell_type": "code",
      "metadata": {
        "id": "zNpm70XeNr_q"
      },
      "source": [
        "# (4) 勾配計算\n",
        "z.backward()\n",
        "\n",
        "# (5) 勾配値の確認\n",
        "print(x.grad)"
      ],
      "execution_count": null,
      "outputs": []
    },
    {
      "cell_type": "code",
      "metadata": {
        "id": "cyt_foUvNr_q"
      },
      "source": [
        "# 元の関数と勾配のグラフ化\n",
        "\n",
        "plt.plot(x.data, y.data, c='b', label='y')\n",
        "plt.plot(x.data, x.grad.data, c='k', label='y.grad')\n",
        "plt.legend()\n",
        "plt.show()"
      ],
      "execution_count": null,
      "outputs": []
    },
    {
      "cell_type": "markdown",
      "metadata": {
        "id": "0kLX9BV9Nr_q"
      },
      "source": [
        "シグモイド関数の勾配は、$y(1-y)$になる。  \n",
        "2次関数なので、$y=\\dfrac{1}{2}$の時(x=0の時)最大値$\\dfrac{1}{4}$を取る。  \n",
        "上のグラフは、この計算結果と一致している。  "
      ]
    },
    {
      "cell_type": "code",
      "metadata": {
        "id": "d6lbqTXUNr_q"
      },
      "source": [
        "# (6) 勾配の初期化は関数 zero_()を使う\n",
        "\n",
        "x.grad.zero_()\n",
        "print(x.grad)"
      ],
      "execution_count": null,
      "outputs": []
    },
    {
      "cell_type": "markdown",
      "metadata": {
        "id": "7tGBthh4Nr_r"
      },
      "source": [
        "### (参考)シグモイド関数を独自に実装した場合"
      ]
    },
    {
      "cell_type": "code",
      "metadata": {
        "id": "Uofxv02YNr_r"
      },
      "source": [
        "# シグモイド関数の定義\n",
        "\n",
        "def sigmoid(x):\n",
        "    return(1/(1 + torch.exp(-x)))"
      ],
      "execution_count": null,
      "outputs": []
    },
    {
      "cell_type": "code",
      "metadata": {
        "id": "1A2ozRy4Nr_r"
      },
      "source": [
        "# (2) yの値の計算\n",
        "\n",
        "y = sigmoid(x)"
      ],
      "execution_count": null,
      "outputs": []
    },
    {
      "cell_type": "code",
      "metadata": {
        "id": "vaCaLvR5Nr_r"
      },
      "source": [
        "# グラフ描画\n",
        "\n",
        "plt.plot(x.data, y.data)\n",
        "plt.xlabel('x')\n",
        "plt.ylabel('y')\n",
        "plt.title('シグモイド関数のグラフ')\n",
        "plt.show()"
      ],
      "execution_count": null,
      "outputs": []
    },
    {
      "cell_type": "code",
      "metadata": {
        "id": "8HAx2pNbNr_r"
      },
      "source": [
        "# 勾配計算のためには、最終値はスカラーの必要があるため、ダミーでsum関数をかける\n",
        "\n",
        "z = y.sum()"
      ],
      "execution_count": null,
      "outputs": []
    },
    {
      "cell_type": "code",
      "metadata": {
        "id": "m6FR7tA1Nr_r"
      },
      "source": [
        "# (3) 計算グラフの可視化\n",
        "\n",
        "params = {'x': x}\n",
        "g = make_dot(z, params=params)\n",
        "display(g)"
      ],
      "execution_count": null,
      "outputs": []
    },
    {
      "cell_type": "code",
      "metadata": {
        "id": "9nHpZIC3Nr_s"
      },
      "source": [
        "# (4) 勾配計算\n",
        "z.backward()\n",
        "\n",
        "# (5) 勾配値の確認\n",
        "print(x.grad)"
      ],
      "execution_count": null,
      "outputs": []
    },
    {
      "cell_type": "code",
      "metadata": {
        "id": "ip_6cFLmNr_s"
      },
      "source": [
        "# 元の関数と勾配のグラフ化\n",
        "\n",
        "plt.plot(x.data, y.data, c='b', label='y')\n",
        "plt.plot(x.data, x.grad.data, c='k', label='y.grad')\n",
        "plt.legend()\n",
        "plt.show()"
      ],
      "execution_count": null,
      "outputs": []
    },
    {
      "cell_type": "code",
      "metadata": {
        "id": "t-hoxTV7Nr_s"
      },
      "source": [],
      "execution_count": null,
      "outputs": []
    }
  ]
}