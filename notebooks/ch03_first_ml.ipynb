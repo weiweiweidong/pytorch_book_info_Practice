{
  "nbformat": 4,
  "nbformat_minor": 0,
  "metadata": {
    "kernelspec": {
      "display_name": "Python 3",
      "language": "python",
      "name": "python3"
    },
    "language_info": {
      "codemirror_mode": {
        "name": "ipython",
        "version": 3
      },
      "file_extension": ".py",
      "mimetype": "text/x-python",
      "name": "python",
      "nbconvert_exporter": "python",
      "pygments_lexer": "ipython3",
      "version": "3.8.5"
    },
    "colab": {
      "name": "ch03_first_ml.ipynb",
      "provenance": [],
      "collapsed_sections": [],
      "toc_visible": true
    }
  },
  "cells": [
    {
      "cell_type": "markdown",
      "metadata": {
        "id": "oG_Ih-LJWVQe"
      },
      "source": [
        "# 3章　初めての機械学習"
      ]
    },
    {
      "cell_type": "code",
      "metadata": {
        "id": "AbiVE7SfWVQh"
      },
      "source": [
        "# 必要ライブラリの導入\n",
        "\n",
        "!pip install japanize_matplotlib | tail -n 1\n",
        "!pip install torchviz | tail -n 1"
      ],
      "execution_count": null,
      "outputs": []
    },
    {
      "cell_type": "code",
      "metadata": {
        "id": "qdBSAV7jWVQi"
      },
      "source": [
        "# 必要ライブラリのインポート\n",
        "\n",
        "%matplotlib inline\n",
        "import numpy as np\n",
        "import matplotlib.pyplot as plt\n",
        "import japanize_matplotlib\n",
        "from IPython.display import display"
      ],
      "execution_count": null,
      "outputs": []
    },
    {
      "cell_type": "code",
      "metadata": {
        "id": "qY_7aVQMWVQi"
      },
      "source": [
        "# PyTorch関連ライブラリ\n",
        "import torch\n",
        "from torchviz import make_dot"
      ],
      "execution_count": null,
      "outputs": []
    },
    {
      "cell_type": "code",
      "metadata": {
        "id": "2zhf9g-hWVQi"
      },
      "source": [
        "# デフォルトフォントサイズ変更\n",
        "plt.rcParams['font.size'] = 14\n",
        "\n",
        "# デフォルトグラフサイズ変更\n",
        "plt.rcParams['figure.figsize'] = (6,6)\n",
        "\n",
        "# デフォルトで方眼表示ON\n",
        "plt.rcParams['axes.grid'] = True\n",
        "\n",
        "# numpyの浮動小数点の表示精度\n",
        "np.set_printoptions(suppress=True, precision=4)"
      ],
      "execution_count": null,
      "outputs": []
    },
    {
      "cell_type": "code",
      "metadata": {
        "id": "gA7kd5H9kPxI"
      },
      "source": [
        "# warning表示off\n",
        "import warnings\n",
        "warnings.simplefilter('ignore')"
      ],
      "execution_count": null,
      "outputs": []
    },
    {
      "cell_type": "markdown",
      "metadata": {
        "id": "iGBUENgrWVQj"
      },
      "source": [
        "## 3.4 勾配降下法の実装"
      ]
    },
    {
      "cell_type": "code",
      "metadata": {
        "id": "wPlWOAXPWVQj"
      },
      "source": [
        "def L(u, v):\n",
        "    return 3 * u**2 + 3 * v**2 - u*v + 7*u - 7*v + 10\n",
        "def Lu(u, v):\n",
        "    return 6* u - v + 7\n",
        "def Lv(u, v):\n",
        "    return 6* v - u - 7\n",
        "\n",
        "u = np.linspace(-5, 5, 501)\n",
        "v = np.linspace(-5, 5, 501)\n",
        "U, V = np.meshgrid(u, v)\n",
        "Z = L(U, V)"
      ],
      "execution_count": null,
      "outputs": []
    },
    {
      "cell_type": "code",
      "metadata": {
        "id": "gfvzBvD9WVQj"
      },
      "source": [
        "# 勾配降下法のシミュレーション\n",
        "W = np.array([4.0, 4.0])\n",
        "W1 = [W[0]]\n",
        "W2 = [W[1]]\n",
        "N = 21\n",
        "alpha = 0.05\n",
        "for i in range(N):\n",
        "    W = W - alpha *np.array([Lu(W[0], W[1]), Lv(W[0], W[1])])\n",
        "    W1.append(W[0])\n",
        "    W2.append(W[1])"
      ],
      "execution_count": null,
      "outputs": []
    },
    {
      "cell_type": "code",
      "metadata": {
        "id": "fnaOfU2mWVQk"
      },
      "source": [
        "n_loop=11\n",
        "\n",
        "WW1 = np.array(W1[:n_loop])\n",
        "WW2 = np.array(W2[:n_loop])\n",
        "ZZ = L(WW1, WW2)\n",
        "fig = plt.figure(figsize=(8,8))\n",
        "ax = plt.axes(projection='3d')\n",
        "ax.set_zlim(0,250)\n",
        "ax.set_xlabel('W')\n",
        "ax.set_ylabel('B')\n",
        "ax.set_zlabel('loss')\n",
        "ax.view_init(50, 240)\n",
        "ax.xaxis._axinfo[\"grid\"]['linewidth'] = 2.\n",
        "ax.yaxis._axinfo[\"grid\"]['linewidth'] = 2.\n",
        "ax.zaxis._axinfo[\"grid\"]['linewidth'] = 2.\n",
        "ax.contour3D(U, V, Z, 100, cmap='Blues', alpha=0.7)\n",
        "ax.plot3D(WW1, WW2, ZZ, 'o-', c='k', alpha=1, markersize=7)\n",
        "plt.show()"
      ],
      "execution_count": null,
      "outputs": []
    },
    {
      "cell_type": "markdown",
      "metadata": {
        "id": "IagA2uPTWVQk"
      },
      "source": [
        "## 3.5 データ前処理\n",
        "5人の人の身長と体重のデータを使う。  \n",
        "1次関数で身長から体重を予測する場合、最適な直線を求めることが目的。"
      ]
    },
    {
      "cell_type": "code",
      "metadata": {
        "id": "2cnCsxQTWVQk"
      },
      "source": [
        "# サンプルデータの宣言\n",
        "sampleData1 = np.array([\n",
        "    [166, 58.7],\n",
        "    [176.0, 75.7],\n",
        "    [171.0, 62.1],\n",
        "    [173.0, 70.4],\n",
        "    [169.0,60.1]\n",
        "])\n",
        "print(sampleData1)"
      ],
      "execution_count": null,
      "outputs": []
    },
    {
      "cell_type": "code",
      "metadata": {
        "id": "B6ie37XyWVQk"
      },
      "source": [
        "# 機械学習モデルで扱うため、身長だけを抜き出した変数xと\n",
        "# 体重だけを抜き出した変数yをセットする\n",
        "\n",
        "x = sampleData1[:,0]\n",
        "y = sampleData1[:,1]"
      ],
      "execution_count": null,
      "outputs": []
    },
    {
      "cell_type": "code",
      "metadata": {
        "id": "jTIpXh0AWVQl"
      },
      "source": [
        "# 散布図表示で状況の確認\n",
        "\n",
        "plt.scatter(x,  y,  c='k',  s=50)\n",
        "plt.xlabel('$x$: 身長(cm) ')\n",
        "plt.ylabel('$y$: 体重(kg)')\n",
        "plt.title('身長と体重の関係')\n",
        "plt.show()"
      ],
      "execution_count": null,
      "outputs": []
    },
    {
      "cell_type": "markdown",
      "metadata": {
        "id": "_234fjkjWVQl"
      },
      "source": [
        "### 座標系の変換\n",
        "機械学習モデルでは、データは0に近い値を持つことが望ましい。  \n",
        "そこで、x, y ともに平均値が0になるように平行移動し、新しい座標系をX, Yとする。"
      ]
    },
    {
      "cell_type": "code",
      "metadata": {
        "id": "lCP56aC2WVQl"
      },
      "source": [
        "X = x - x.mean()\n",
        "Y = y - y.mean()"
      ],
      "execution_count": null,
      "outputs": []
    },
    {
      "cell_type": "code",
      "metadata": {
        "id": "gKOh_PZcWVQl"
      },
      "source": [
        "# 散布図表示で結果の確認\n",
        "\n",
        "plt.scatter(X,  Y,  c='k',  s=50)\n",
        "plt.xlabel('$X$')\n",
        "plt.ylabel('$Y$')\n",
        "plt.title('加工後の身長と体重の関係')\n",
        "plt.show()"
      ],
      "execution_count": null,
      "outputs": []
    },
    {
      "cell_type": "markdown",
      "metadata": {
        "id": "9z4qsfhFWVQm"
      },
      "source": [
        "## 3.6 予測計算"
      ]
    },
    {
      "cell_type": "code",
      "metadata": {
        "id": "b9D0ASQnWVQm"
      },
      "source": [
        "# XとYをテンソル変数化する\n",
        "\n",
        "X = torch.tensor(X).float()\n",
        "Y = torch.tensor(Y).float()"
      ],
      "execution_count": null,
      "outputs": []
    },
    {
      "cell_type": "code",
      "metadata": {
        "id": "g9Fyxbb9WVQm"
      },
      "source": [
        "# 結果確認\n",
        "\n",
        "print(X)\n",
        "print(Y)"
      ],
      "execution_count": null,
      "outputs": []
    },
    {
      "cell_type": "code",
      "metadata": {
        "id": "OVQNoaiPWVQm"
      },
      "source": [
        "# 重み変数の定義\n",
        "# WとBは勾配計算をするので、requires_grad=Trueとする\n",
        "\n",
        "W = torch.tensor(1.0, requires_grad=True).float()\n",
        "B = torch.tensor(1.0, requires_grad=True).float()"
      ],
      "execution_count": null,
      "outputs": []
    },
    {
      "cell_type": "code",
      "metadata": {
        "id": "q4HHhAmEWVQm"
      },
      "source": [
        "# 予測関数は一次関数\n",
        "\n",
        "def pred(X):\n",
        "    return W * X + B"
      ],
      "execution_count": null,
      "outputs": []
    },
    {
      "cell_type": "code",
      "metadata": {
        "id": "3xEp5gkLWVQm"
      },
      "source": [
        "# 予測値の計算\n",
        "\n",
        "Yp =  pred(X)"
      ],
      "execution_count": null,
      "outputs": []
    },
    {
      "cell_type": "code",
      "metadata": {
        "id": "bwhCnsfaWVQn"
      },
      "source": [
        "# 結果標示\n",
        "\n",
        "print(Yp)"
      ],
      "execution_count": null,
      "outputs": []
    },
    {
      "cell_type": "code",
      "metadata": {
        "id": "fZiEnFwGWVQn"
      },
      "source": [
        "# 予測値の計算グラフ可視化\n",
        "\n",
        "params = {'W': W, 'B': B}\n",
        "g = make_dot(Yp, params=params)\n",
        "display(g)"
      ],
      "execution_count": null,
      "outputs": []
    },
    {
      "cell_type": "markdown",
      "metadata": {
        "id": "oCQtvOFIWVQn"
      },
      "source": [
        "## 3.7 損失計算"
      ]
    },
    {
      "cell_type": "code",
      "metadata": {
        "id": "cF2BCiT8WVQn"
      },
      "source": [
        "# 損失関数は誤差二乗平均\n",
        "\n",
        "def mse(Yp, Y):\n",
        "    loss = ((Yp - Y) ** 2).mean()\n",
        "    return loss"
      ],
      "execution_count": null,
      "outputs": []
    },
    {
      "cell_type": "code",
      "metadata": {
        "id": "x3kkCiw3WVQo"
      },
      "source": [
        "# 損失計算\n",
        "\n",
        "loss = mse(Yp, Y)"
      ],
      "execution_count": null,
      "outputs": []
    },
    {
      "cell_type": "code",
      "metadata": {
        "id": "1on3xqQOWVQo"
      },
      "source": [
        "# 結果標示\n",
        "\n",
        "print(loss)"
      ],
      "execution_count": null,
      "outputs": []
    },
    {
      "cell_type": "code",
      "metadata": {
        "id": "zMX3tYAgWVQo"
      },
      "source": [
        "# 損失の計算グラフ可視化\n",
        "\n",
        "params = {'W': W, 'B': B}\n",
        "g = make_dot(loss, params=params)\n",
        "display(g)"
      ],
      "execution_count": null,
      "outputs": []
    },
    {
      "cell_type": "markdown",
      "metadata": {
        "id": "txlLD4dzWVQo"
      },
      "source": [
        "## 3.8 勾配計算"
      ]
    },
    {
      "cell_type": "code",
      "metadata": {
        "id": "mu7g47KbWVQo"
      },
      "source": [
        "# 勾配計算\n",
        "\n",
        "loss.backward()"
      ],
      "execution_count": null,
      "outputs": []
    },
    {
      "cell_type": "code",
      "metadata": {
        "id": "2D-kcOFsWVQo"
      },
      "source": [
        "# 勾配値確認\n",
        "\n",
        "print(W.grad)\n",
        "print(B.grad)"
      ],
      "execution_count": null,
      "outputs": []
    },
    {
      "cell_type": "markdown",
      "metadata": {
        "id": "KZhFz91XWVQp"
      },
      "source": [
        "## 3.9 パラメータ修正"
      ]
    },
    {
      "cell_type": "code",
      "metadata": {
        "id": "x6MvVkl2WVQp"
      },
      "source": [
        "# 学習率の定義\n",
        "\n",
        "lr = 0.001"
      ],
      "execution_count": null,
      "outputs": []
    },
    {
      "cell_type": "code",
      "metadata": {
        "id": "0AUYCS2zWVQp"
      },
      "source": [
        "#  勾配を元にパラメータ修正\n",
        "\n",
        "W -= lr * W.grad\n",
        "B -= lr * B.grad"
      ],
      "execution_count": null,
      "outputs": []
    },
    {
      "cell_type": "markdown",
      "metadata": {
        "id": "jZKWqFp3WVQp"
      },
      "source": [
        "WとBは一度計算済みなので、この状態で値の更新ができない  \n",
        "次の書き方にする必要がある"
      ]
    },
    {
      "cell_type": "code",
      "metadata": {
        "id": "mWA2IVKjWVQp"
      },
      "source": [
        "# 勾配を元にパラメータ修正\n",
        "# with torch.no_grad() を付ける必要がある\n",
        "\n",
        "with torch.no_grad():\n",
        "    W -= lr * W.grad\n",
        "    B -= lr * B.grad\n",
        "    \n",
        "    # 計算済みの勾配値をリセットする\n",
        "    W.grad.zero_()\n",
        "    B.grad.zero_()"
      ],
      "execution_count": null,
      "outputs": []
    },
    {
      "cell_type": "code",
      "metadata": {
        "id": "35hOEh7nWVQp"
      },
      "source": [
        "# パラメータと勾配値の確認\n",
        "\n",
        "print(W)\n",
        "print(B)\n",
        "print(W.grad)\n",
        "print(B.grad)"
      ],
      "execution_count": null,
      "outputs": []
    },
    {
      "cell_type": "markdown",
      "metadata": {
        "id": "Q65yjJyaWVQq"
      },
      "source": [
        "元の値はどちらも1.0だったので、Wは微少量増加、Bは微少量減少したことがわかる。  \n",
        "この計算を繰り返すことで、最適なWとBを求めるのが勾配降下法となる。"
      ]
    },
    {
      "cell_type": "markdown",
      "metadata": {
        "id": "gOEcs_OEWVQq"
      },
      "source": [
        "## 3.10 繰り返し計算"
      ]
    },
    {
      "cell_type": "code",
      "metadata": {
        "id": "EGJHgK6QWVQq"
      },
      "source": [
        "# 初期化\n",
        "\n",
        "# WとBを変数として扱う\n",
        "W = torch.tensor(1.0, requires_grad=True).float()\n",
        "B = torch.tensor(1.0, requires_grad=True).float()\n",
        "\n",
        "# 繰り返し回数\n",
        "num_epochs = 500\n",
        "\n",
        "# 学習率\n",
        "lr = 0.001\n",
        "\n",
        "# 記録用配列初期化\n",
        "history = np.zeros((0, 2))"
      ],
      "execution_count": null,
      "outputs": []
    },
    {
      "cell_type": "code",
      "metadata": {
        "scrolled": true,
        "id": "2hKkaSI0WVQq"
      },
      "source": [
        "# ループ処理\n",
        "\n",
        "for epoch in range(num_epochs):\n",
        "\n",
        "    # 予測計算\n",
        "    Yp = pred(X)\n",
        "    \n",
        "    # 損失計算\n",
        "    loss = mse(Yp, Y)\n",
        "    \n",
        "    # 勾配計算\n",
        "    loss.backward()\n",
        "    \n",
        "    with torch.no_grad():\n",
        "        # パラメータ修正\n",
        "        W -= lr * W.grad\n",
        "        B -= lr * B.grad\n",
        "        \n",
        "        # 勾配値の初期化\n",
        "        W.grad.zero_()\n",
        "        B.grad.zero_()\n",
        "        \n",
        "    # 損失の記録\n",
        "    if (epoch %10 == 0):\n",
        "        item = np.array([epoch, loss.item()])\n",
        "        history = np.vstack((history, item))\n",
        "        print(f'epoch = {epoch}  loss = {loss:.4f}')\n",
        "    "
      ],
      "execution_count": null,
      "outputs": []
    },
    {
      "cell_type": "markdown",
      "metadata": {
        "id": "cPLhlv-1WVQr"
      },
      "source": [
        "## 3.11 結果確認"
      ]
    },
    {
      "cell_type": "code",
      "metadata": {
        "id": "Brcug2NCWVQr"
      },
      "source": [
        "# パラメータの最終値\n",
        "print('W = ', W.data.numpy())\n",
        "print('B = ', B.data.numpy())\n",
        "\n",
        "#損失の確認\n",
        "print(f'初期状態: 損失:{history[0,1]:.4f}') \n",
        "print(f'最終状態: 損失:{history[-1,1]:.4f}') "
      ],
      "execution_count": null,
      "outputs": []
    },
    {
      "cell_type": "code",
      "metadata": {
        "id": "i3FiFYspWVQr"
      },
      "source": [
        "# 学習曲線の表示 (損失)\n",
        "\n",
        "plt.plot(history[:,0], history[:,1], 'b')\n",
        "plt.xlabel('繰り返し回数')\n",
        "plt.ylabel('損失')\n",
        "plt.title('学習曲線(損失)')\n",
        "plt.show()"
      ],
      "execution_count": null,
      "outputs": []
    },
    {
      "cell_type": "markdown",
      "metadata": {
        "id": "iPiwKDduWVQr"
      },
      "source": [
        "### 散布図に回帰直線を重ね書きする"
      ]
    },
    {
      "cell_type": "code",
      "metadata": {
        "id": "dn2ArxQqWVQr"
      },
      "source": [
        "# xの範囲を求める(Xrange)\n",
        "X_max = X.max()\n",
        "X_min = X.min()\n",
        "X_range = np.array((X_min, X_max))\n",
        "X_range = torch.from_numpy(X_range).float()\n",
        "print(X_range)\n",
        "\n",
        "# 対応するyの予測値を求める\n",
        "Y_range = pred(X_range)\n",
        "print(Y_range.data)"
      ],
      "execution_count": null,
      "outputs": []
    },
    {
      "cell_type": "code",
      "metadata": {
        "id": "WvXDYaK5WVQr"
      },
      "source": [
        "# グラフ描画\n",
        "\n",
        "plt.scatter(X,  Y,  c='k',  s=50)\n",
        "plt.xlabel('$X$')\n",
        "plt.ylabel('$Y$')\n",
        "plt.plot(X_range.data, Y_range.data, lw=2, c='b')\n",
        "plt.title('身長と体重の相関直線(加工後)')\n",
        "plt.show()"
      ],
      "execution_count": null,
      "outputs": []
    },
    {
      "cell_type": "markdown",
      "metadata": {
        "id": "xmt4XrNbWVQs"
      },
      "source": [
        "### 加工前データへの回帰直線描画"
      ]
    },
    {
      "cell_type": "code",
      "metadata": {
        "id": "aFlvzzxaWVQs"
      },
      "source": [
        "# y座標値とx座標値の計算\n",
        "\n",
        "x_range = X_range + x.mean()\n",
        "yp_range = Y_range + y.mean()"
      ],
      "execution_count": null,
      "outputs": []
    },
    {
      "cell_type": "code",
      "metadata": {
        "id": "jjbHJh7cWVQs"
      },
      "source": [
        "# グラフ描画\n",
        "\n",
        "plt.scatter(x,  y,  c='k',  s=50)\n",
        "plt.xlabel('$x$')\n",
        "plt.ylabel('$y$')\n",
        "plt.plot(x_range, yp_range.data, lw=2, c='b')\n",
        "plt.title('身長と体重の相関直線(加工前)')\n",
        "plt.show()"
      ],
      "execution_count": null,
      "outputs": []
    },
    {
      "cell_type": "markdown",
      "metadata": {
        "id": "jbY0y976WVQs"
      },
      "source": [
        "## 3.12 最適化関数とstep関数の利用"
      ]
    },
    {
      "cell_type": "code",
      "metadata": {
        "id": "MFBuUEHgWVQs"
      },
      "source": [
        "# 初期化\n",
        "\n",
        "# WとBを変数として扱う\n",
        "W = torch.tensor(1.0, requires_grad=True).float()\n",
        "B = torch.tensor(1.0, requires_grad=True).float()\n",
        "\n",
        "# 繰り返し回数\n",
        "num_epochs = 500\n",
        "\n",
        "# 学習率\n",
        "lr = 0.001\n",
        "\n",
        "# optimizerとしてSGD(確率的勾配降下法)を指定する\n",
        "import torch.optim as optim\n",
        "optimizer = optim.SGD([W, B], lr=lr)\n",
        "\n",
        "# 記録用配列初期化\n",
        "history = np.zeros((0, 2))"
      ],
      "execution_count": null,
      "outputs": []
    },
    {
      "cell_type": "code",
      "metadata": {
        "id": "DQRx7YQuWVQs"
      },
      "source": [
        "# ループ処理\n",
        "\n",
        "for epoch in range(num_epochs):\n",
        "\n",
        "    # 予測計算\n",
        "    Yp = pred(X)\n",
        "    \n",
        "    # 損失計算\n",
        "    loss = mse(Yp, Y)\n",
        "\n",
        "    # 勾配計算\n",
        "    loss.backward()\n",
        "\n",
        "    # パラメータ修正\n",
        "    optimizer.step()\n",
        "    \n",
        "    #勾配値初期化\n",
        "    optimizer.zero_grad()\n",
        "        \n",
        "    # 損失値の記録\n",
        "    if (epoch %10 == 0):\n",
        "        item = np.array([epoch, loss.item()])\n",
        "        history = np.vstack((history, item))\n",
        "        print(f'epoch = {epoch}  loss = {loss:.4f}')"
      ],
      "execution_count": null,
      "outputs": []
    },
    {
      "cell_type": "code",
      "metadata": {
        "id": "IPNHGAdeWVQt"
      },
      "source": [
        "# パラメータの最終値\n",
        "print('W = ', W.data.numpy())\n",
        "print('B = ', B.data.numpy())\n",
        "\n",
        "#損失の確認\n",
        "print(f'初期状態: 損失:{history[0,1]:.4f}') \n",
        "print(f'最終状態: 損失:{history[-1,1]:.4f}') "
      ],
      "execution_count": null,
      "outputs": []
    },
    {
      "cell_type": "code",
      "metadata": {
        "scrolled": false,
        "id": "Gllq7RCrWVQt"
      },
      "source": [
        "# 学習曲線の表示 (損失)\n",
        "\n",
        "plt.plot(history[:,0], history[:,1], 'b')\n",
        "plt.xlabel('繰り返し回数')\n",
        "plt.ylabel('損失')\n",
        "plt.title('学習曲線(損失)')\n",
        "plt.show()"
      ],
      "execution_count": null,
      "outputs": []
    },
    {
      "cell_type": "markdown",
      "metadata": {
        "id": "8xhELdZxWVQt"
      },
      "source": [
        "3.7の結果と見比べるとまったく同じであることがわかる。  \n",
        "つまり、step関数でやっていることは、次のコードと同じ。\n",
        "\n",
        "```py3\n",
        "\n",
        " with torch.no_grad():\n",
        "        # パラメータ修正 (フレームワークを使う場合はstep関数)\n",
        "        W -= lr * W.grad\n",
        "        B -= lr * B.grad\n",
        "```"
      ]
    },
    {
      "cell_type": "markdown",
      "metadata": {
        "id": "llF8abxMWVQt"
      },
      "source": [
        "### 最適化関数のチューニング"
      ]
    },
    {
      "cell_type": "code",
      "metadata": {
        "id": "PJrzSRW4WVQt"
      },
      "source": [
        "# 初期化\n",
        "\n",
        "# WとBを変数として扱う\n",
        "W = torch.tensor(1.0, requires_grad=True).float()\n",
        "B = torch.tensor(1.0, requires_grad=True).float()\n",
        "\n",
        "# 繰り返し回数\n",
        "num_epochs = 500\n",
        "\n",
        "# 学習率\n",
        "lr = 0.001\n",
        "\n",
        "# optimizerとしてSGD(確率的勾配降下法)を指定する\n",
        "import torch.optim as optim\n",
        "optimizer = optim.SGD([W, B], lr=lr, momentum=0.9)\n",
        "\n",
        "# 記録用配列初期化\n",
        "history2 = np.zeros((0, 2))"
      ],
      "execution_count": null,
      "outputs": []
    },
    {
      "cell_type": "code",
      "metadata": {
        "id": "zgsU861zWVQt"
      },
      "source": [
        "# ループ処理\n",
        "\n",
        "for epoch in range(num_epochs):\n",
        "\n",
        "    # 予測計算\n",
        "    Yp = pred(X)\n",
        "    \n",
        "    # 損失計算\n",
        "    loss = mse(Yp, Y)\n",
        "\n",
        "    # 勾配計算\n",
        "    loss.backward()\n",
        "\n",
        "    # パラメータ修正\n",
        "    optimizer.step()\n",
        "    \n",
        "    #勾配値初期化\n",
        "    optimizer.zero_grad()\n",
        "        \n",
        "    # 損失値の記録\n",
        "    if (epoch %10 == 0):\n",
        "        item = np.array([epoch, loss.item()])\n",
        "        history2 = np.vstack((history2, item))\n",
        "        print(f'epoch = {epoch}  loss = {loss:.4f}')\n",
        "    "
      ],
      "execution_count": null,
      "outputs": []
    },
    {
      "cell_type": "code",
      "metadata": {
        "id": "e1BTUhNSWVQu"
      },
      "source": [
        "# 学習曲線の表示 (損失)\n",
        "\n",
        "plt.plot(history[:,0], history[:,1], 'b', label='デフォルト設定')\n",
        "plt.plot(history2[:,0], history2[:,1], 'k', label='momentum=0.9')\n",
        "plt.xlabel('繰り返し回数')\n",
        "plt.ylabel('損失')\n",
        "plt.legend()\n",
        "plt.title('学習曲線(損失)')\n",
        "plt.show()"
      ],
      "execution_count": null,
      "outputs": []
    },
    {
      "cell_type": "markdown",
      "metadata": {
        "id": "c_Bw4JEnWVQu"
      },
      "source": [
        "## コラム　局所最適解"
      ]
    },
    {
      "cell_type": "code",
      "metadata": {
        "id": "WpLZKllPWVQu"
      },
      "source": [
        "def f(x):\n",
        "    return x * (x+1) * (x+2) * (x-2)"
      ],
      "execution_count": null,
      "outputs": []
    },
    {
      "cell_type": "code",
      "metadata": {
        "id": "ieChuekDWVQu"
      },
      "source": [
        "x = np.arange(-3, 2.7, 0.05)\n",
        "y = f(x)\n",
        "\n",
        "plt.plot(x, y)\n",
        "plt.axis('off')\n",
        "plt.show()"
      ],
      "execution_count": null,
      "outputs": []
    },
    {
      "cell_type": "code",
      "metadata": {
        "id": "eDKFJHWpWVQu"
      },
      "source": [
        ""
      ],
      "execution_count": null,
      "outputs": []
    }
  ]
}