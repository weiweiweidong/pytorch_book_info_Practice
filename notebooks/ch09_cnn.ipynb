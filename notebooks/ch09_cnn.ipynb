{
  "nbformat": 4,
  "nbformat_minor": 0,
  "metadata": {
    "accelerator": "GPU",
    "colab": {
      "provenance": [],
      "toc_visible": true
    },
    "kernelspec": {
      "display_name": "Python 3",
      "language": "python",
      "name": "python3"
    },
    "language_info": {
      "codemirror_mode": {
        "name": "ipython",
        "version": 3
      },
      "file_extension": ".py",
      "mimetype": "text/x-python",
      "name": "python",
      "nbconvert_exporter": "python",
      "pygments_lexer": "ipython3",
      "version": "3.8.5"
    }
  },
  "cells": [
    {
      "cell_type": "markdown",
      "metadata": {
        "id": "7Fvpgxh_dRGh"
      },
      "source": [
        "# 9章 CIFAR10を使った画像認識"
      ]
    },
    {
      "cell_type": "code",
      "metadata": {
        "id": "m2kbg_t6Je-C"
      },
      "source": [
        "# 必要ライブラリの導入\n",
        "\n",
        "!pip install japanize_matplotlib | tail -n 1\n",
        "!pip install torchviz | tail -n 1\n",
        "!pip install torchinfo | tail -n 1"
      ],
      "execution_count": null,
      "outputs": []
    },
    {
      "cell_type": "code",
      "metadata": {
        "id": "G1KaXwQsJe-E"
      },
      "source": [
        "# 必要ライブラリのインポート\n",
        "\n",
        "%matplotlib inline\n",
        "import numpy as np\n",
        "import matplotlib.pyplot as plt\n",
        "import japanize_matplotlib\n",
        "from IPython.display import display"
      ],
      "execution_count": null,
      "outputs": []
    },
    {
      "cell_type": "code",
      "metadata": {
        "id": "4oQML-49Je-F"
      },
      "source": [
        "# torch関連ライブラリのインポート\n",
        "\n",
        "import torch\n",
        "import torch.nn as nn\n",
        "import torch.optim as optim\n",
        "from torchinfo import summary\n",
        "from torchviz import make_dot\n",
        "import torchvision.datasets as datasets\n",
        "import torchvision.transforms as transforms\n",
        "from torch.utils.data import DataLoader"
      ],
      "execution_count": null,
      "outputs": []
    },
    {
      "cell_type": "code",
      "metadata": {
        "id": "GOFk4TZZJe-F"
      },
      "source": [
        "# warning表示off\n",
        "import warnings\n",
        "warnings.simplefilter('ignore')\n",
        "\n",
        "# デフォルトフォントサイズ変更\n",
        "plt.rcParams['font.size'] = 14\n",
        "\n",
        "# デフォルトグラフサイズ変更\n",
        "plt.rcParams['figure.figsize'] = (6,6)\n",
        "\n",
        "# デフォルトで方眼表示ON\n",
        "plt.rcParams['axes.grid'] = True\n",
        "\n",
        "# numpyの表示桁数設定\n",
        "np.set_printoptions(suppress=True, precision=5)"
      ],
      "execution_count": null,
      "outputs": []
    },
    {
      "cell_type": "markdown",
      "metadata": {
        "id": "QMcpKvnVJe-F"
      },
      "source": [
        "### GPUチェック"
      ]
    },
    {
      "cell_type": "code",
      "metadata": {
        "id": "0OAAFnfAejCw"
      },
      "source": [
        "# デバイスの割り当て\n",
        "\n",
        "device = torch.device(\"cuda:0\" if torch.cuda.is_available() else \"cpu\")\n",
        "print(device)"
      ],
      "execution_count": null,
      "outputs": []
    },
    {
      "cell_type": "markdown",
      "metadata": {
        "id": "wrXoCdl018l0"
      },
      "source": [
        "## 9.3 CNNの処理概要"
      ]
    },
    {
      "cell_type": "code",
      "metadata": {
        "id": "-B9dWRZV18l0"
      },
      "source": [
        "data_root = './data'\n",
        "\n",
        "# サンプルの手書き数字データを取得\n",
        "transform = transforms.Compose([\n",
        "    transforms.ToTensor(),\n",
        "])\n",
        "\n",
        "train_set = datasets.MNIST(\n",
        "    root = data_root,  train = True,  \n",
        "    download = True, transform = transform)\n",
        "\n",
        "image, label = train_set[0]\n",
        "image = image.view(1,1,28,28)"
      ],
      "execution_count": null,
      "outputs": []
    },
    {
      "cell_type": "code",
      "metadata": {
        "id": "lkt6oyux18l0"
      },
      "source": [
        "# 対角線上にのみ重みを持つ特殊な畳み込み関数を作る\n",
        "conv1 = nn.Conv2d(1, 1, 3)\n",
        "\n",
        "# biasを0に\n",
        "nn.init.constant_(conv1.bias, 0.0)\n",
        "\n",
        "# weightを特殊な値に\n",
        "w1_np = np.array([[0,0,1],[0,1,0],[1,0,0]])\n",
        "w1 = torch.tensor(w1_np).float()\n",
        "w1 = w1.view(1,1,3,3)\n",
        "conv1.weight.data = w1"
      ],
      "execution_count": null,
      "outputs": []
    },
    {
      "cell_type": "code",
      "metadata": {
        "id": "6gC83tzE18l0"
      },
      "source": [
        "# 手書き数字に3回畳み込み処理を行う\n",
        "image, label = train_set[0]\n",
        "image = image.view(1,1,28,28)\n",
        "w1 = conv1(image)\n",
        "w2 = conv1(w1)\n",
        "w3 = conv1(w2)\n",
        "images = [image, w1, w2, w3]"
      ],
      "execution_count": null,
      "outputs": []
    },
    {
      "cell_type": "code",
      "metadata": {
        "id": "h8mpBgLQ18l0"
      },
      "source": [
        "# 結果の画面表示\n",
        "\n",
        "plt.figure(figsize=(5, 1))\n",
        "for i in range(4):\n",
        "    size = 28 - i*2\n",
        "    ax = plt.subplot(1, 4, i+1)\n",
        "    img = images[i].data.numpy()\n",
        "    plt.imshow(img.reshape(size, size),cmap='gray_r')\n",
        "    ax.get_xaxis().set_visible(False)\n",
        "    ax.get_yaxis().set_visible(False)\n",
        "plt.show()"
      ],
      "execution_count": null,
      "outputs": []
    },
    {
      "cell_type": "markdown",
      "metadata": {
        "id": "MYzxweXqJe-G"
      },
      "source": [
        "## 9.4 PyTorchでのCNN実装"
      ]
    },
    {
      "cell_type": "markdown",
      "metadata": {
        "id": "w5hQ1p8t18l1"
      },
      "source": [
        "### nn.Conv2d とnn.MaxPool2d"
      ]
    },
    {
      "cell_type": "code",
      "metadata": {
        "id": "xcFSMMC6Je-H"
      },
      "source": [
        "# CNN前半部分 レイヤー関数の定義\n",
        "\n",
        "conv1 = nn.Conv2d(3, 32, 3)\n",
        "relu = nn.ReLU(inplace=True)\n",
        "conv2 = nn.Conv2d(32, 32, 3)\n",
        "maxpool = nn.MaxPool2d((2,2))"
      ],
      "execution_count": null,
      "outputs": []
    },
    {
      "cell_type": "code",
      "metadata": {
        "id": "ff9yd4c4Je-H"
      },
      "source": [
        "# conv1の確認\n",
        "print(conv1)\n",
        "\n",
        "# conv1の内部変数のshape確認\n",
        "print(conv1.weight.shape)\n",
        "print(conv1.bias.shape)\n",
        "\n",
        "# conv2の内部変数のshape確認\n",
        "print(conv2.weight.shape)\n",
        "print(conv2.bias.shape)"
      ],
      "execution_count": null,
      "outputs": []
    },
    {
      "cell_type": "code",
      "metadata": {
        "id": "_IfNC2U_Je-H"
      },
      "source": [
        "# conv1のweight[0]とは、出力チャネル0用の重み\n",
        "w = conv1.weight[0]\n",
        "\n",
        "# waeight[0]のshapeと値の確認\n",
        "print(w.shape)\n",
        "print(w.data.numpy())"
      ],
      "execution_count": null,
      "outputs": []
    },
    {
      "cell_type": "code",
      "metadata": {
        "id": "1ccmmujCJe-I"
      },
      "source": [
        "# ダミーで入力と同じサイズのTensorを生成\n",
        "inputs = torch.randn(100, 3, 32, 32)\n",
        "print(inputs.shape)"
      ],
      "execution_count": null,
      "outputs": []
    },
    {
      "cell_type": "code",
      "metadata": {
        "id": "mfDwezGgJe-I"
      },
      "source": [
        "# CNNの前半部分をシミュレーションする\n",
        "\n",
        "x1 = conv1(inputs)\n",
        "x2 = relu(x1)\n",
        "x3 = conv2(x2)\n",
        "x4 = relu(x3)\n",
        "x5 = maxpool(x4)"
      ],
      "execution_count": null,
      "outputs": []
    },
    {
      "cell_type": "code",
      "metadata": {
        "id": "pdBwDdKqJe-J"
      },
      "source": [
        "# それぞれのshapeの確認\n",
        "\n",
        "print(inputs.shape)\n",
        "print(x1.shape)\n",
        "print(x2.shape)\n",
        "print(x3.shape)\n",
        "print(x4.shape)\n",
        "print(x5.shape)"
      ],
      "execution_count": null,
      "outputs": []
    },
    {
      "cell_type": "markdown",
      "metadata": {
        "id": "JLbjxSi718l1"
      },
      "source": [
        "### nn.Sequential"
      ]
    },
    {
      "cell_type": "code",
      "metadata": {
        "id": "e3lqG0fa18l1"
      },
      "source": [
        "# 関数定義\n",
        "features = nn.Sequential(\n",
        "    conv1,\n",
        "    relu,\n",
        "    conv2,\n",
        "    relu,\n",
        "    maxpool\n",
        ")"
      ],
      "execution_count": null,
      "outputs": []
    },
    {
      "cell_type": "code",
      "metadata": {
        "id": "mpNENj1D18l1"
      },
      "source": [
        "# 動作テスト\n",
        "outputs = features(inputs)\n",
        "\n",
        "# 結果確認\n",
        "print(outputs.shape)"
      ],
      "execution_count": null,
      "outputs": []
    },
    {
      "cell_type": "markdown",
      "metadata": {
        "id": "eNt0_LhJ18l1"
      },
      "source": [
        "### nn.Flatten"
      ]
    },
    {
      "cell_type": "code",
      "metadata": {
        "id": "xSoq6yLJ18l2"
      },
      "source": [
        "# 関数定義\n",
        "flatten = nn.Flatten()\n",
        "\n",
        "# 動作テスト\n",
        "outputs2 = flatten(outputs)\n",
        "\n",
        "# 結果確認\n",
        "print(outputs.shape)\n",
        "print(outputs2.shape)"
      ],
      "execution_count": null,
      "outputs": []
    },
    {
      "cell_type": "markdown",
      "metadata": {
        "id": "0s-bcZO9rLYI"
      },
      "source": [
        "## 9.4 共通関数の定義"
      ]
    },
    {
      "cell_type": "markdown",
      "metadata": {
        "id": "ToVuFBXFoLyJ"
      },
      "source": [
        "### eval_loss 損失計算用"
      ]
    },
    {
      "cell_type": "code",
      "metadata": {
        "id": "eJXCs6L-rRnQ"
      },
      "source": [
        "# 損失計算用\n",
        "def eval_loss(loader, device, net, criterion):\n",
        "  \n",
        "    # データローダーから最初の1セットを取得する\n",
        "    for images, labels in loader:\n",
        "        break\n",
        "\n",
        "    # デバイスの割り当て\n",
        "    inputs = images.to(device)\n",
        "    labels = labels.to(device)\n",
        "\n",
        "    # 予測計算\n",
        "    outputs = net(inputs)\n",
        "\n",
        "    #  損失計算\n",
        "    loss = criterion(outputs, labels)\n",
        "\n",
        "    return loss"
      ],
      "execution_count": null,
      "outputs": []
    },
    {
      "cell_type": "markdown",
      "metadata": {
        "id": "3JZMOe4roSIe"
      },
      "source": [
        "### fit 学習用"
      ]
    },
    {
      "cell_type": "code",
      "metadata": {
        "id": "-yUPrnCOrRxd"
      },
      "source": [
        "# 学習用関数\n",
        "def fit(net, optimizer, criterion, num_epochs, train_loader, test_loader, device, history):\n",
        "\n",
        "    # tqdmライブラリのインポート\n",
        "    from tqdm.notebook import tqdm\n",
        "\n",
        "    base_epochs = len(history)\n",
        "  \n",
        "    for epoch in range(base_epochs, num_epochs+base_epochs):\n",
        "        # 1エポックあたりの正解数(精度計算用)\n",
        "        n_train_acc, n_val_acc = 0, 0\n",
        "        # 1エポックあたりの累積損失(平均化前)\n",
        "        train_loss, val_loss = 0, 0\n",
        "        # 1エポックあたりのデータ累積件数\n",
        "        n_train, n_test = 0, 0\n",
        "\n",
        "        #訓練フェーズ\n",
        "        net.train()\n",
        "\n",
        "        for inputs, labels in tqdm(train_loader):\n",
        "            # 1バッチあたりのデータ件数\n",
        "            train_batch_size = len(labels)\n",
        "            # 1エポックあたりのデータ累積件数\n",
        "            n_train += train_batch_size\n",
        "    \n",
        "            # GPUヘ転送\n",
        "            inputs = inputs.to(device)\n",
        "            labels = labels.to(device)\n",
        "\n",
        "            # 勾配の初期化\n",
        "            optimizer.zero_grad()\n",
        "\n",
        "            # 予測計算\n",
        "            outputs = net(inputs)\n",
        "\n",
        "            # 損失計算\n",
        "            loss = criterion(outputs, labels)\n",
        "\n",
        "            # 勾配計算\n",
        "            loss.backward()\n",
        "\n",
        "            # パラメータ修正\n",
        "            optimizer.step()\n",
        "\n",
        "            # 予測ラベル導出\n",
        "            predicted = torch.max(outputs, 1)[1]\n",
        "\n",
        "            # 平均前の損失と正解数の計算\n",
        "            # lossは平均計算が行われているので平均前の損失に戻して加算\n",
        "            train_loss += loss.item() * train_batch_size \n",
        "            n_train_acc += (predicted == labels).sum().item() \n",
        "\n",
        "        #予測フェーズ\n",
        "        net.eval()\n",
        "\n",
        "        for inputs_test, labels_test in test_loader:\n",
        "            # 1バッチあたりのデータ件数\n",
        "            test_batch_size = len(labels_test)\n",
        "            # 1エポックあたりのデータ累積件数\n",
        "            n_test += test_batch_size\n",
        "\n",
        "            # GPUヘ転送\n",
        "            inputs_test = inputs_test.to(device)\n",
        "            labels_test = labels_test.to(device)\n",
        "\n",
        "            # 予測計算\n",
        "            outputs_test = net(inputs_test)\n",
        "\n",
        "            # 損失計算\n",
        "            loss_test = criterion(outputs_test, labels_test)\n",
        " \n",
        "            # 予測ラベル導出\n",
        "            predicted_test = torch.max(outputs_test, 1)[1]\n",
        "\n",
        "            #  平均前の損失と正解数の計算\n",
        "            # lossは平均計算が行われているので平均前の損失に戻して加算\n",
        "            val_loss +=  loss_test.item() * test_batch_size\n",
        "            n_val_acc +=  (predicted_test == labels_test).sum().item()\n",
        "\n",
        "        # 精度計算\n",
        "        train_acc = n_train_acc / n_train\n",
        "        val_acc = n_val_acc / n_test\n",
        "        # 損失計算\n",
        "        avg_train_loss = train_loss / n_train\n",
        "        avg_val_loss = val_loss / n_test\n",
        "        # 結果表示\n",
        "        print (f'Epoch [{(epoch+1)}/{num_epochs+base_epochs}], loss: {avg_train_loss:.5f} acc: {train_acc:.5f} val_loss: {avg_val_loss:.5f}, val_acc: {val_acc:.5f}')\n",
        "        # 記録\n",
        "        item = np.array([epoch+1, avg_train_loss, train_acc, avg_val_loss, val_acc])\n",
        "        history = np.vstack((history, item))\n",
        "    return history"
      ],
      "execution_count": null,
      "outputs": []
    },
    {
      "cell_type": "markdown",
      "metadata": {
        "id": "80Hew-I7oZA0"
      },
      "source": [
        "### eval_history 学習ログ解析用"
      ]
    },
    {
      "cell_type": "code",
      "metadata": {
        "id": "QlOBN2SzrR2e"
      },
      "source": [
        "# 学習ログ解析\n",
        "\n",
        "def evaluate_history(history):\n",
        "    #損失と精度の確認\n",
        "    print(f'初期状態: 損失: {history[0,3]:.5f} 精度: {history[0,4]:.5f}') \n",
        "    print(f'最終状態: 損失: {history[-1,3]:.5f} 精度: {history[-1,4]:.5f}' )\n",
        "\n",
        "    num_epochs = len(history)\n",
        "    unit = num_epochs / 10\n",
        "\n",
        "    # 学習曲線の表示 (損失)\n",
        "    plt.figure(figsize=(9,8))\n",
        "    plt.plot(history[:,0], history[:,1], 'b', label='訓練')\n",
        "    plt.plot(history[:,0], history[:,3], 'k', label='検証')\n",
        "    plt.xticks(np.arange(0,num_epochs+1, unit))\n",
        "    plt.xlabel('繰り返し回数')\n",
        "    plt.ylabel('損失')\n",
        "    plt.title('学習曲線(損失)')\n",
        "    plt.legend()\n",
        "    plt.show()\n",
        "\n",
        "    # 学習曲線の表示 (精度)\n",
        "    plt.figure(figsize=(9,8))\n",
        "    plt.plot(history[:,0], history[:,2], 'b', label='訓練')\n",
        "    plt.plot(history[:,0], history[:,4], 'k', label='検証')\n",
        "    plt.xticks(np.arange(0,num_epochs+1,unit))\n",
        "    plt.xlabel('繰り返し回数')\n",
        "    plt.ylabel('精度')\n",
        "    plt.title('学習曲線(精度)')\n",
        "    plt.legend()\n",
        "    plt.show()"
      ],
      "execution_count": null,
      "outputs": []
    },
    {
      "cell_type": "markdown",
      "metadata": {
        "id": "b7Ai6zUiMrg6"
      },
      "source": [
        "### show_images_labels イメージとラベルの表示"
      ]
    },
    {
      "cell_type": "code",
      "metadata": {
        "id": "eocXPBeJM0JU"
      },
      "source": [
        "# イメージとラベル表示\n",
        "def show_images_labels(loader, classes, net, device):\n",
        "\n",
        "    # データローダーから最初の1セットを取得する\n",
        "    for images, labels in loader:\n",
        "        break\n",
        "    # 表示数は50個とバッチサイズのうち小さい方\n",
        "    n_size = min(len(images), 50)\n",
        "\n",
        "    if net is not None:\n",
        "      # デバイスの割り当て\n",
        "      inputs = images.to(device)\n",
        "      labels = labels.to(device)\n",
        "\n",
        "      # 予測計算\n",
        "      outputs = net(inputs)\n",
        "      predicted = torch.max(outputs,1)[1]\n",
        "      #images = images.to('cpu')\n",
        "\n",
        "    # 最初のn_size個の表示\n",
        "    plt.figure(figsize=(20, 15))\n",
        "    for i in range(n_size):\n",
        "        ax = plt.subplot(5, 10, i + 1)\n",
        "        label_name = classes[labels[i]]\n",
        "        # netがNoneでない場合は、予測結果もタイトルに表示する\n",
        "        if net is not None:\n",
        "          predicted_name = classes[predicted[i]]\n",
        "          # 正解かどうかで色分けをする\n",
        "          if label_name == predicted_name:\n",
        "            c = 'k'\n",
        "          else:\n",
        "            c = 'b'\n",
        "          ax.set_title(label_name + ':' + predicted_name, c=c, fontsize=20)\n",
        "        # netがNoneの場合は、正解ラベルのみ表示\n",
        "        else:\n",
        "          ax.set_title(label_name, fontsize=20)\n",
        "        # TensorをNumPyに変換\n",
        "        image_np = images[i].numpy().copy()\n",
        "        # 軸の順番変更 (channel, row, column) -> (row, column, channel)\n",
        "        img = np.transpose(image_np, (1, 2, 0))\n",
        "        # 値の範囲を[-1, 1] -> [0, 1]に戻す\n",
        "        img = (img + 1)/2\n",
        "        # 結果表示\n",
        "        plt.imshow(img)\n",
        "        ax.set_axis_off()\n",
        "    plt.show()\n"
      ],
      "execution_count": null,
      "outputs": []
    },
    {
      "cell_type": "markdown",
      "metadata": {
        "id": "qgu8HwD2om0T"
      },
      "source": [
        "### torch_seed 乱数固定用"
      ]
    },
    {
      "cell_type": "code",
      "metadata": {
        "id": "0j7Pxb2fosMD"
      },
      "source": [
        "# PyTorch乱数固定用\n",
        "\n",
        "def torch_seed(seed=123):\n",
        "    torch.manual_seed(seed)\n",
        "    torch.cuda.manual_seed(seed)\n",
        "    torch.backends.cudnn.deterministic = True\n",
        "    torch.use_deterministic_algorithms = True"
      ],
      "execution_count": null,
      "outputs": []
    },
    {
      "cell_type": "markdown",
      "metadata": {
        "id": "10HShejedqrH"
      },
      "source": [
        "\n",
        "## 9.6 データ準備"
      ]
    },
    {
      "cell_type": "code",
      "metadata": {
        "id": "SFnmwtPQdlTP"
      },
      "source": [
        "# Transformsの定義\n",
        "\n",
        "# transformer1 1階テンソル化\n",
        "\n",
        "transform1 = transforms.Compose([\n",
        "    transforms.ToTensor(),\n",
        "    transforms.Normalize(0.5, 0.5),\n",
        "    transforms.Lambda(lambda x: x.view(-1)),\n",
        "])\n",
        "\n",
        "# transformer2 正規化のみ実施\n",
        "\n",
        "# 検証データ用 : 正規化のみ実施\n",
        "transform2 = transforms.Compose([\n",
        "    transforms.ToTensor(),\n",
        "    transforms.Normalize(0.5, 0.5),\n",
        "])"
      ],
      "execution_count": null,
      "outputs": []
    },
    {
      "cell_type": "code",
      "metadata": {
        "id": "g_dSfTcMT13i"
      },
      "source": [
        "# データ取得用関数 Datasets\n",
        "\n",
        "data_root = './data'\n",
        "\n",
        "# 訓練データセット 1階テンソル版\n",
        "train_set1 = datasets.CIFAR10(\n",
        "    root = data_root, train = True, \n",
        "    download = True, transform = transform1)\n",
        "\n",
        "# 検証データセット 1階テンソル版\n",
        "test_set1 = datasets.CIFAR10(\n",
        "    root = data_root, train = False, \n",
        "    download = True, transform = transform1)\n",
        "\n",
        "# 訓練データセット 3階テンソル版\n",
        "train_set2 = datasets.CIFAR10(\n",
        "    root =  data_root, train = True, \n",
        "    download = True, transform = transform2)\n",
        "\n",
        "# 検証データセット 3階テンソル版\n",
        "test_set2 = datasets.CIFAR10(\n",
        "    root = data_root, train = False, \n",
        "    download = True, transform = transform2)"
      ],
      "execution_count": null,
      "outputs": []
    },
    {
      "cell_type": "markdown",
      "metadata": {
        "id": "V2YYOkdYNJ8x"
      },
      "source": [
        "### データセットの確認"
      ]
    },
    {
      "cell_type": "code",
      "metadata": {
        "id": "R3rAkb3YNNFy"
      },
      "source": [
        "image1, label1 = train_set1[0]\n",
        "image2, label2 = train_set2[0]\n",
        "\n",
        "print(image1.shape)\n",
        "print(image2.shape)"
      ],
      "execution_count": null,
      "outputs": []
    },
    {
      "cell_type": "code",
      "metadata": {
        "id": "nuFu7dAqT2Rx"
      },
      "source": [
        "# データローダーの定義\n",
        "\n",
        "# ミニバッチのサイズ指定\n",
        "batch_size = 100\n",
        "\n",
        "# 訓練用データローダー\n",
        "# 訓練用なので、シャッフルをかける\n",
        "train_loader1 = DataLoader(train_set1, batch_size=batch_size, shuffle=True)\n",
        "\n",
        "# 検証用データローダー\n",
        "# 検証時にシャッフルは不要\n",
        "test_loader1 = DataLoader(test_set1,  batch_size=batch_size, shuffle=False) \n",
        "\n",
        "# 訓練用データローダー\n",
        "# 訓練用なので、シャッフルをかける\n",
        "train_loader2 = DataLoader(train_set2, batch_size=batch_size, shuffle=True)\n",
        "\n",
        "# 検証用データローダー\n",
        "# 検証時にシャッフルは不要\n",
        "test_loader2 = DataLoader(test_set2,  batch_size=batch_size, shuffle=False) \n"
      ],
      "execution_count": null,
      "outputs": []
    },
    {
      "cell_type": "code",
      "metadata": {
        "id": "eDsGaUUDPZGp"
      },
      "source": [
        "# train_loader1から1セット取得\n",
        "for images1, labels1 in train_loader1:\n",
        "    break\n",
        "\n",
        "# train_loader2から1セット取得\n",
        "for images2, labels2 in train_loader2:\n",
        "    break\n",
        "\n",
        "# それぞれのshape確認\n",
        "print(images1.shape)\n",
        "print(images2.shape)\n"
      ],
      "execution_count": null,
      "outputs": []
    },
    {
      "cell_type": "code",
      "metadata": {
        "id": "YAsMtbpgPZdD"
      },
      "source": [
        "# 正解ラベル定義\n",
        "classes = ('plane', 'car', 'bird', 'cat',\n",
        "           'deer', 'dog', 'frog', 'horse', 'ship', 'truck')\n",
        "\n",
        "# 検証データ最初の50個の表示\n",
        "show_images_labels(test_loader2, classes, None, None)"
      ],
      "execution_count": null,
      "outputs": []
    },
    {
      "cell_type": "markdown",
      "metadata": {
        "id": "dRNHUzApV-U6"
      },
      "source": [
        "## 9.7 モデル定義(全結合版)"
      ]
    },
    {
      "cell_type": "markdown",
      "metadata": {
        "id": "QQXIY0diqmRc"
      },
      "source": [
        "### 学習用パラメータ設定"
      ]
    },
    {
      "cell_type": "code",
      "metadata": {
        "id": "4iI19UIzppdl"
      },
      "source": [
        "# 入力次元数 今回は3*32*32=3072\n",
        "n_input = image1.view(-1).shape[0]\n",
        "\n",
        "# 出力次元数\n",
        "# 分類先クラス数　今回は10になる\n",
        "n_output = len(classes)\n",
        "\n",
        "# 隠れ層のノード数\n",
        "n_hidden = 128\n",
        "\n",
        "# 結果確認\n",
        "print(f'n_input: {n_input}  n_hidden: {n_hidden} n_output: {n_output}')"
      ],
      "execution_count": null,
      "outputs": []
    },
    {
      "cell_type": "code",
      "metadata": {
        "id": "ibdPlvIerN2E"
      },
      "source": [
        "# モデルの定義\n",
        "# 3072入力10出力1隠れ層のニューラルネットワークモデル\n",
        "\n",
        "class Net(nn.Module):\n",
        "    def __init__(self, n_input, n_output, n_hidden):\n",
        "        super().__init__()\n",
        "\n",
        "        # 隠れ層の定義 (隠れ層のノード数: n_hidden)\n",
        "        self.l1 = nn.Linear(n_input, n_hidden)\n",
        "\n",
        "        # 出力層の定義\n",
        "        self.l2 = nn.Linear(n_hidden, n_output)\n",
        "\n",
        "        # ReLU関数の定義\n",
        "        self.relu = nn.ReLU(inplace=True)\n",
        "   \n",
        "    def forward(self, x):\n",
        "        x1 = self.l1(x)\n",
        "        x2 = self.relu(x1)\n",
        "        x3 = self.l2(x2)\n",
        "        return x3"
      ],
      "execution_count": null,
      "outputs": []
    },
    {
      "cell_type": "markdown",
      "metadata": {
        "id": "uMDfnKJvsBeE"
      },
      "source": [
        "### モデルインスタンス生成とGPUの割り当て"
      ]
    },
    {
      "cell_type": "code",
      "metadata": {
        "id": "LGMAliBOsGxU"
      },
      "source": [
        "# モデルインスタンス生成\n",
        "net = Net(n_input, n_output, n_hidden).to(device)\n",
        "\n",
        "# 損失関数： 交差エントロピー関数\n",
        "criterion = nn.CrossEntropyLoss()\n",
        "\n",
        "# 学習率\n",
        "lr = 0.01\n",
        "\n",
        "# 最適化関数: 勾配降下法\n",
        "optimizer = torch.optim.SGD(net.parameters(), lr=lr)"
      ],
      "execution_count": null,
      "outputs": []
    },
    {
      "cell_type": "code",
      "metadata": {
        "id": "Dx5SCm7TsZZg"
      },
      "source": [
        "# モデルの概要表示\n",
        "\n",
        "print(net)"
      ],
      "execution_count": null,
      "outputs": []
    },
    {
      "cell_type": "code",
      "metadata": {
        "id": "dnZWgwtzsg7v"
      },
      "source": [
        "# モデルのサマリー表示\n",
        "\n",
        "summary(net, (100,3072),depth=1)"
      ],
      "execution_count": null,
      "outputs": []
    },
    {
      "cell_type": "code",
      "metadata": {
        "id": "fDCbYr8PXjaj"
      },
      "source": [
        "# 損失計算\n",
        "loss = eval_loss(test_loader1, device, net, criterion)\n",
        "\n",
        "# 損失の計算グラフ可視化\n",
        "g = make_dot(loss, params=dict(net.named_parameters()))\n",
        "display(g)"
      ],
      "execution_count": null,
      "outputs": []
    },
    {
      "cell_type": "markdown",
      "metadata": {
        "id": "vIoz0Myhf9BB"
      },
      "source": [
        "## 9.8 結果(全結合版)"
      ]
    },
    {
      "cell_type": "markdown",
      "metadata": {
        "id": "vn4qghExt2Qs"
      },
      "source": [
        "### 学習"
      ]
    },
    {
      "cell_type": "code",
      "metadata": {
        "id": "i7iuLtYA6Jll"
      },
      "source": [
        "# 乱数初期化\n",
        "torch_seed()\n",
        "\n",
        "# モデルインスタンス生成\n",
        "net = Net(n_input, n_output, n_hidden).to(device)\n",
        "\n",
        "# 損失関数： 交差エントロピー関数\n",
        "criterion = nn.CrossEntropyLoss()\n",
        "\n",
        "# 学習率\n",
        "lr = 0.01\n",
        "\n",
        "# 最適化関数: 勾配降下法\n",
        "optimizer = optim.SGD(net.parameters(), lr=lr)\n",
        "\n",
        "# 繰り返し回数\n",
        "num_epochs = 50\n",
        "\n",
        "# 評価結果記録用\n",
        "history = np.zeros((0,5))\n",
        "\n",
        "# 学習\n",
        "history = fit(net, optimizer, criterion, num_epochs, train_loader1, test_loader1, device, history)"
      ],
      "execution_count": null,
      "outputs": []
    },
    {
      "cell_type": "markdown",
      "metadata": {
        "id": "2ZNomu5moY_G"
      },
      "source": [
        "### 評価"
      ]
    },
    {
      "cell_type": "code",
      "metadata": {
        "id": "RC_sgKK3toI-"
      },
      "source": [
        "# 評価\n",
        "\n",
        "evaluate_history(history)"
      ],
      "execution_count": null,
      "outputs": []
    },
    {
      "cell_type": "markdown",
      "metadata": {
        "id": "61Hy39-cOhYp"
      },
      "source": [
        "## 9.9 モデル定義(CNN版)"
      ]
    },
    {
      "cell_type": "code",
      "metadata": {
        "id": "l7TkRHKcG5sM"
      },
      "source": [
        "class CNN(nn.Module):\n",
        "  def __init__(self, n_output, n_hidden):\n",
        "    super().__init__()\n",
        "    self.conv1 = nn.Conv2d(3, 32, 3)\n",
        "    self.conv2 = nn.Conv2d(32, 32, 3)\n",
        "    self.relu = nn.ReLU(inplace=True)\n",
        "    self.maxpool = nn.MaxPool2d((2,2))\n",
        "    self.flatten = nn.Flatten()\n",
        "    self.l1 = nn.Linear(6272, n_hidden)\n",
        "    self.l2 = nn.Linear(n_hidden, n_output)\n",
        "\n",
        "    self.features = nn.Sequential(\n",
        "        self.conv1,\n",
        "        self.relu,\n",
        "        self.conv2,\n",
        "        self.relu,\n",
        "        self.maxpool)\n",
        "    \n",
        "    self.classifier = nn.Sequential(\n",
        "       self.l1,\n",
        "       self.relu,\n",
        "       self.l2)\n",
        "\n",
        "  def forward(self, x):\n",
        "    x1 = self.features(x)\n",
        "    x2 = self.flatten(x1)\n",
        "    x3 = self.classifier(x2)\n",
        "    return x3       "
      ],
      "execution_count": null,
      "outputs": []
    },
    {
      "cell_type": "markdown",
      "metadata": {
        "id": "n13EwggDJe-R"
      },
      "source": [
        "### モデルインスタンスの生成"
      ]
    },
    {
      "cell_type": "code",
      "metadata": {
        "id": "ycBrfRkEJe-S"
      },
      "source": [
        "# モデルインスタンス生成\n",
        "net = CNN(n_output, n_hidden).to(device)\n",
        "\n",
        "# 損失関数： 交差エントロピー関数\n",
        "criterion = nn.CrossEntropyLoss()\n",
        "\n",
        "# 学習率\n",
        "lr = 0.01\n",
        "\n",
        "# 最適化関数: 勾配降下法\n",
        "optimizer = torch.optim.SGD(net.parameters(), lr=lr)"
      ],
      "execution_count": null,
      "outputs": []
    },
    {
      "cell_type": "code",
      "metadata": {
        "id": "EwSzatQkR1SO"
      },
      "source": [
        "# モデルの概要表示\n",
        "\n",
        "print(net)"
      ],
      "execution_count": null,
      "outputs": []
    },
    {
      "cell_type": "code",
      "metadata": {
        "id": "osKG5o3PG53T"
      },
      "source": [
        "# モデルのサマリー表示\n",
        "\n",
        "summary(net,(100,3,32,32),depth=1)"
      ],
      "execution_count": null,
      "outputs": []
    },
    {
      "cell_type": "code",
      "metadata": {
        "id": "SuWYp8YqcCcc"
      },
      "source": [
        "# 損失計算\n",
        "loss = eval_loss(test_loader2, device, net, criterion)\n",
        "\n",
        "# 損失の計算グラフ可視化\n",
        "g = make_dot(loss, params=dict(net.named_parameters()))\n",
        "display(g)"
      ],
      "execution_count": null,
      "outputs": []
    },
    {
      "cell_type": "markdown",
      "metadata": {
        "id": "Q04M_eIebtWb"
      },
      "source": [
        "## 9.10 結果(CNN版)"
      ]
    },
    {
      "cell_type": "markdown",
      "metadata": {
        "id": "aaNLwkXVQYhs"
      },
      "source": [
        "### 学習"
      ]
    },
    {
      "cell_type": "code",
      "metadata": {
        "id": "1zxqgLqwHb-_"
      },
      "source": [
        "# 乱数初期化\n",
        "torch_seed()\n",
        "\n",
        "# モデルインスタンス生成\n",
        "net = CNN(n_output, n_hidden).to(device)\n",
        "\n",
        "# 損失関数： 交差エントロピー関数\n",
        "criterion = nn.CrossEntropyLoss()\n",
        "\n",
        "# 学習率\n",
        "lr = 0.01\n",
        "\n",
        "# 最適化関数: 勾配降下法\n",
        "optimizer = optim.SGD(net.parameters(), lr=lr)\n",
        "\n",
        "# 繰り返し回数\n",
        "num_epochs = 50\n",
        "\n",
        "# 評価結果記録用\n",
        "history2 = np.zeros((0,5))\n",
        "\n",
        "# 学習\n",
        "history2 = fit(net, optimizer, criterion, num_epochs, train_loader2, test_loader2, device, history2)"
      ],
      "execution_count": null,
      "outputs": []
    },
    {
      "cell_type": "markdown",
      "metadata": {
        "id": "t12Ii85iQd0j"
      },
      "source": [
        "### 評価"
      ]
    },
    {
      "cell_type": "code",
      "metadata": {
        "id": "PSGQXebxS5mP"
      },
      "source": [
        "# 評価\n",
        "\n",
        "evaluate_history(history2)"
      ],
      "execution_count": null,
      "outputs": []
    },
    {
      "cell_type": "code",
      "metadata": {
        "id": "8WesZnfA2URl"
      },
      "source": [
        "# 最初の50個の表示\n",
        "\n",
        "show_images_labels(test_loader2, classes, net, device)"
      ],
      "execution_count": null,
      "outputs": []
    },
    {
      "cell_type": "code",
      "metadata": {
        "id": "zstI3RWNZc74"
      },
      "source": [],
      "execution_count": null,
      "outputs": []
    }
  ]
}