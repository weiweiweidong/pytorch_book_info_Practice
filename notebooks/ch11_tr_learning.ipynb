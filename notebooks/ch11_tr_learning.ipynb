{
  "nbformat": 4,
  "nbformat_minor": 0,
  "metadata": {
    "accelerator": "GPU",
    "colab": {
      "name": "ch11_tr_learning.ipynb",
      "provenance": [],
      "collapsed_sections": [],
      "toc_visible": true
    },
    "kernelspec": {
      "display_name": "Python 3",
      "language": "python",
      "name": "python3"
    },
    "language_info": {
      "codemirror_mode": {
        "name": "ipython",
        "version": 3
      },
      "file_extension": ".py",
      "mimetype": "text/x-python",
      "name": "python",
      "nbconvert_exporter": "python",
      "pygments_lexer": "ipython3",
      "version": "3.8.5"
    }
  },
  "cells": [
    {
      "cell_type": "markdown",
      "metadata": {
        "id": "DCJd8UAnpHOP"
      },
      "source": [
        "# 11章 事前学習済みモデルの利用"
      ]
    },
    {
      "cell_type": "code",
      "metadata": {
        "id": "MDpbF1y0owR_"
      },
      "source": [
        "# 必要ライブラリの導入\n",
        "\n",
        "!pip install japanize_matplotlib | tail -n 1\n",
        "!pip install torchviz | tail -n 1\n",
        "!pip install torchinfo | tail -n 1"
      ],
      "execution_count": null,
      "outputs": []
    },
    {
      "cell_type": "code",
      "metadata": {
        "id": "LoGUMbWTpMpJ"
      },
      "source": [
        "# 必要ライブラリのインポート\n",
        "\n",
        "%matplotlib inline\n",
        "import numpy as np\n",
        "import matplotlib.pyplot as plt\n",
        "import japanize_matplotlib\n",
        "from IPython.display import display"
      ],
      "execution_count": null,
      "outputs": []
    },
    {
      "cell_type": "code",
      "metadata": {
        "id": "3f9JdhISpSna"
      },
      "source": [
        "# PyTorch関連ライブラリのインポート\n",
        "\n",
        "import torch\n",
        "import torch.nn as nn\n",
        "import torch.optim as optim\n",
        "from torchinfo import summary\n",
        "from torchviz import make_dot\n",
        "import torchvision.transforms as transforms\n",
        "from torch.utils.data import Dataset, DataLoader\n",
        "import torchvision.datasets as datasets"
      ],
      "execution_count": null,
      "outputs": []
    },
    {
      "cell_type": "code",
      "metadata": {
        "id": "QQCGCQiNpWsx"
      },
      "source": [
        "# warning表示off\n",
        "import warnings\n",
        "warnings.simplefilter('ignore')\n",
        "\n",
        "# デフォルトフォントサイズ変更\n",
        "plt.rcParams['font.size'] = 14\n",
        "\n",
        "# デフォルトグラフサイズ変更\n",
        "plt.rcParams['figure.figsize'] = (6,6)\n",
        "\n",
        "# デフォルトで方眼表示ON\n",
        "plt.rcParams['axes.grid'] = True\n",
        "\n",
        "# numpyの表示桁数設定\n",
        "np.set_printoptions(suppress=True, precision=5)"
      ],
      "execution_count": null,
      "outputs": []
    },
    {
      "cell_type": "code",
      "metadata": {
        "id": "XfimLfk7pdZr"
      },
      "source": [
        "# GPUチェック\n",
        "\n",
        "device = torch.device(\"cuda:0\" if torch.cuda.is_available() else \"cpu\")\n",
        "print(device)"
      ],
      "execution_count": null,
      "outputs": []
    },
    {
      "cell_type": "markdown",
      "metadata": {
        "id": "lkjcaoGgpxi1"
      },
      "source": [
        "### 共通関数の読み込み"
      ]
    },
    {
      "cell_type": "code",
      "metadata": {
        "id": "EJPpA4BR37-E"
      },
      "source": [
        "# 共通関数のダウンロード\n",
        "!git clone https://github.com/makaishi2/pythonlibs.git\n",
        "\n",
        "# 共通関数のロード\n",
        "from pythonlibs.torch_lib1 import *\n",
        "\n",
        "# 共通関数の存在チェック\n",
        "print(README)"
      ],
      "execution_count": null,
      "outputs": []
    },
    {
      "cell_type": "markdown",
      "metadata": {
        "id": "gWbACFT0VCou"
      },
      "source": [
        "## 11.4 nn.AdaptiveAvgPool2d関数"
      ]
    },
    {
      "cell_type": "code",
      "metadata": {
        "id": "xQG4sadKVCou"
      },
      "source": [
        "# nn.AdaptiveAvgPool2dの定義\n",
        "p = nn.AdaptiveAvgPool2d((1,1))\n",
        "print(p)\n",
        "\n",
        "# 線形関数の定義\n",
        "l1 = nn.Linear(32, 10)\n",
        "print(l1)"
      ],
      "execution_count": null,
      "outputs": []
    },
    {
      "cell_type": "code",
      "metadata": {
        "id": "d_1eVX0dVCou"
      },
      "source": [
        "# 事前学習済みモデルのシミュレーション\n",
        "inputs = torch.randn(100, 32, 16, 16)\n",
        "m1 = p(inputs)\n",
        "m2 = m1.view(m1.shape[0],-1)\n",
        "m3 = l1(m2)\n",
        "\n",
        "# shape確認\n",
        "print(m1.shape)\n",
        "print(m2.shape)\n",
        "print(m3.shape)"
      ],
      "execution_count": null,
      "outputs": []
    },
    {
      "cell_type": "markdown",
      "metadata": {
        "id": "LYYWn2WuqYG4"
      },
      "source": [
        "## 11.5 データ準備"
      ]
    },
    {
      "cell_type": "code",
      "metadata": {
        "id": "u9nHcJ_PrGI6"
      },
      "source": [
        "# 分類先クラス名の定義\n",
        "\n",
        "classes = ('plane', 'car', 'bird', 'cat',\n",
        "           'deer', 'dog', 'frog', 'horse', 'ship', 'truck')\n",
        "\n",
        "# 分類先クラス数　今回は10になる\n",
        "n_output = len(classes)"
      ],
      "execution_count": null,
      "outputs": []
    },
    {
      "cell_type": "code",
      "metadata": {
        "id": "9HkL6jEYqHx3"
      },
      "source": [
        "# Transformsの定義\n",
        "\n",
        "# 学習データ用: 正規化に追加で反転とRandomErasingを実施\n",
        "transform_train = transforms.Compose([\n",
        "  transforms.Resize(112),\n",
        "  transforms.RandomHorizontalFlip(p=0.5), \n",
        "  transforms.ToTensor(),\n",
        "  transforms.Normalize(0.5, 0.5), \n",
        "  transforms.RandomErasing(p=0.5, scale=(0.02, 0.33), ratio=(0.3, 3.3), value=0, inplace=False)\n",
        "])\n",
        "\n",
        "# 検証データ用 : 正規化のみ実施\n",
        "transform = transforms.Compose([\n",
        "  transforms.Resize(112),\n",
        "  transforms.ToTensor(),\n",
        "  transforms.Normalize(0.5, 0.5)\n",
        "])"
      ],
      "execution_count": null,
      "outputs": []
    },
    {
      "cell_type": "code",
      "metadata": {
        "id": "zkU-6Tkzq402"
      },
      "source": [
        "# データ取得用関数 Dataset\n",
        "\n",
        "data_root = './data'\n",
        "\n",
        "train_set = datasets.CIFAR10(\n",
        "    root = data_root, train = True,\n",
        "    download = True, transform = transform_train)\n",
        "\n",
        "# 検証データの取得\n",
        "test_set = datasets.CIFAR10(\n",
        "    root = data_root, train = False, \n",
        "    download = True, transform = transform)"
      ],
      "execution_count": null,
      "outputs": []
    },
    {
      "cell_type": "code",
      "metadata": {
        "id": "m_Mfp8iaq_gB"
      },
      "source": [
        "# バッチサイズ指定\n",
        "batch_size = 50\n",
        "\n",
        "# データローダー\n",
        "\n",
        "# 訓練用データローダー\n",
        "# 訓練用なので、シャッフルをかける\n",
        "train_loader = DataLoader(train_set, batch_size=batch_size, shuffle=True)\n",
        "\n",
        "# 検証用データローダー\n",
        "# 検証時にシャッフルは不要\n",
        "test_loader = DataLoader(test_set,  batch_size=batch_size, shuffle=False) "
      ],
      "execution_count": null,
      "outputs": []
    },
    {
      "cell_type": "markdown",
      "metadata": {
        "id": "OVVH4YSesPYG"
      },
      "source": [
        "## 11.6 ResNet18の読み込み"
      ]
    },
    {
      "cell_type": "markdown",
      "metadata": {
        "id": "0v7aEYoifiUv"
      },
      "source": [
        "### モデルの読み込み"
      ]
    },
    {
      "cell_type": "code",
      "metadata": {
        "id": "wXbtwxLT0kND"
      },
      "source": [
        "#  必要ライブラリのロード\n",
        "from torchvision import models\n",
        "\n",
        "# 事前学習済みモデルのロード\n",
        "# pretraind = True で学習済みパラメータも一緒に読み込む\n",
        "net = models.resnet18(pretrained = True)"
      ],
      "execution_count": null,
      "outputs": []
    },
    {
      "cell_type": "markdown",
      "metadata": {
        "id": "4_fO9_oqdfCb"
      },
      "source": [
        "### モデル構造の確認"
      ]
    },
    {
      "cell_type": "code",
      "metadata": {
        "id": "LjDl60sxCF2v"
      },
      "source": [
        "# ネットワークの概要表示\n",
        "\n",
        "print(net)"
      ],
      "execution_count": null,
      "outputs": []
    },
    {
      "cell_type": "code",
      "metadata": {
        "id": "bZcZ_kwvSodr"
      },
      "source": [
        "# モデルのサマリー表示\n",
        "net = net.to(device)\n",
        "summary(net,(100,3,112,112))"
      ],
      "execution_count": null,
      "outputs": []
    },
    {
      "cell_type": "code",
      "metadata": {
        "id": "z3Ft9HfwPRSO"
      },
      "source": [
        "print(net.fc)\n",
        "print(net.fc.in_features)"
      ],
      "execution_count": null,
      "outputs": []
    },
    {
      "cell_type": "markdown",
      "metadata": {
        "id": "BdbDrHrYCYUn"
      },
      "source": [
        "最終レイヤー関数の変数名は``fc``であることがわかる"
      ]
    },
    {
      "cell_type": "markdown",
      "metadata": {
        "id": "wCBd8M1feHZw"
      },
      "source": [
        "## 11.7 最終レイヤー関数の付け替え"
      ]
    },
    {
      "cell_type": "code",
      "metadata": {
        "id": "WiF1qexgfwXp"
      },
      "source": [
        "# 乱数の初期化\n",
        "torch_seed()\n",
        "\n",
        "# 最終レイヤー関数の入力次元数を確認\n",
        "fc_in_features = net.fc.in_features\n",
        "\n",
        "# 最終レイヤー関数の付け替え\n",
        "net.fc = nn.Linear(fc_in_features, n_output)"
      ],
      "execution_count": null,
      "outputs": []
    },
    {
      "cell_type": "code",
      "metadata": {
        "id": "-JKSPiU86yPC"
      },
      "source": [
        "# 確認\n",
        "print(net)"
      ],
      "execution_count": null,
      "outputs": []
    },
    {
      "cell_type": "code",
      "metadata": {
        "id": "LTdygZ-o6yXa"
      },
      "source": [
        "net = net.to(device)\n",
        "summary(net,(100,3,224,224))"
      ],
      "execution_count": null,
      "outputs": []
    },
    {
      "cell_type": "code",
      "metadata": {
        "id": "Fs104unTgNjD"
      },
      "source": [
        "# 損失の計算グラフ可視化\n",
        "\n",
        "criterion = nn.CrossEntropyLoss()\n",
        "loss = eval_loss(test_loader, device, net, criterion)\n",
        "g = make_dot(loss, params=dict(net.named_parameters()))\n",
        "display(g)"
      ],
      "execution_count": null,
      "outputs": []
    },
    {
      "cell_type": "code",
      "metadata": {
        "id": "yHAne47XVCow"
      },
      "source": [
        "# 確認\n",
        "print(net)"
      ],
      "execution_count": null,
      "outputs": []
    },
    {
      "cell_type": "code",
      "metadata": {
        "id": "CWnIZlefepwp"
      },
      "source": [
        "# モデルのサマリー表示\n",
        "net = net.to(device)\n",
        "summary(net,(100,3,112,112))"
      ],
      "execution_count": null,
      "outputs": []
    },
    {
      "cell_type": "markdown",
      "metadata": {
        "id": "qd5VLBVZVCox"
      },
      "source": [
        "## 11.8 学習と結果評価"
      ]
    },
    {
      "cell_type": "markdown",
      "metadata": {
        "id": "x5A8q-7QgSqH"
      },
      "source": [
        "### 最適化関数などの定義"
      ]
    },
    {
      "cell_type": "code",
      "metadata": {
        "id": "H4WUgpRHtHPT"
      },
      "source": [
        "# 乱数の初期化\n",
        "torch_seed()\n",
        "\n",
        "# 事前学習済みモデルのロード\n",
        "# pretraind = True で学習済みパラメータも一緒に読み込む\n",
        "net = models.resnet18(pretrained = True)\n",
        "\n",
        "# 最終レイヤー関数の入力次元数を確認\n",
        "fc_in_features = net.fc.in_features\n",
        "\n",
        "# 最終レイヤー関数の付け替え\n",
        "net.fc = nn.Linear(fc_in_features, n_output)\n",
        "\n",
        "# GPUの利用\n",
        "net = net.to(device)\n",
        "\n",
        "# 学習率\n",
        "lr = 0.001\n",
        "\n",
        "# 損失関数定義\n",
        "criterion = nn.CrossEntropyLoss()\n",
        "\n",
        "# 最適化関数定義\n",
        "optimizer = optim.SGD(net.parameters(), lr=lr, momentum=0.9)\n",
        "\n",
        "# historyファイル初期化する\n",
        "history = np.zeros((0, 5))"
      ],
      "execution_count": null,
      "outputs": []
    },
    {
      "cell_type": "markdown",
      "metadata": {
        "id": "p_ew9lcof5TQ"
      },
      "source": [
        "### 学習"
      ]
    },
    {
      "cell_type": "code",
      "metadata": {
        "id": "VCv_df0dyF0k"
      },
      "source": [
        "# 学習\n",
        "num_epochs = 5\n",
        "history = fit(net, optimizer, criterion, num_epochs, \n",
        "        train_loader, test_loader, device, history)"
      ],
      "execution_count": null,
      "outputs": []
    },
    {
      "cell_type": "markdown",
      "metadata": {
        "id": "_UXqn-JA4YrS"
      },
      "source": [
        "### 結果確認"
      ]
    },
    {
      "cell_type": "code",
      "metadata": {
        "id": "uZ4JmNLoTGl1"
      },
      "source": [
        "# 結果サマリー\n",
        "evaluate_history(history)"
      ],
      "execution_count": null,
      "outputs": []
    },
    {
      "cell_type": "code",
      "metadata": {
        "id": "hg5Nj1Q89r2E"
      },
      "source": [
        "# イメージと正解・予測結果の表示\n",
        "show_images_labels(test_loader, classes, net, device)"
      ],
      "execution_count": null,
      "outputs": []
    },
    {
      "cell_type": "markdown",
      "metadata": {
        "id": "UhYJ3MZBibla"
      },
      "source": [
        "## 11.9 VGG-19-BNの利用"
      ]
    },
    {
      "cell_type": "markdown",
      "metadata": {
        "id": "Rk7FnagBitoX"
      },
      "source": [
        "###  モデルの読み込み"
      ]
    },
    {
      "cell_type": "code",
      "metadata": {
        "id": "h5eJTF6kiiLG"
      },
      "source": [
        "# 事前学習済みモデルの読み込み\n",
        "from torchvision import models\n",
        "net = models.vgg19_bn(pretrained = True)"
      ],
      "execution_count": null,
      "outputs": []
    },
    {
      "cell_type": "markdown",
      "metadata": {
        "id": "B-tW5Li8jlK8"
      },
      "source": [
        "###  モデル構造の確認"
      ]
    },
    {
      "cell_type": "code",
      "metadata": {
        "id": "ky1FQADwiiR4"
      },
      "source": [
        "# モデルの確認\n",
        "print(net)"
      ],
      "execution_count": null,
      "outputs": []
    },
    {
      "cell_type": "markdown",
      "metadata": {
        "id": "Dw71I9bWjW9Q"
      },
      "source": [
        " 最終レイヤー関数は``classifier[6]``であることがわかる"
      ]
    },
    {
      "cell_type": "code",
      "metadata": {
        "id": "wHq_026ijIFg"
      },
      "source": [
        "# 最終レイヤー関数の確認\n",
        "print(net.classifier[6])"
      ],
      "execution_count": null,
      "outputs": []
    },
    {
      "cell_type": "markdown",
      "metadata": {
        "id": "uYRQyckBkAJA"
      },
      "source": [
        "### 最終レイヤー関数の付け替え"
      ]
    },
    {
      "cell_type": "code",
      "metadata": {
        "id": "SypKMObevaWJ"
      },
      "source": [
        "# 乱数の初期化\n",
        "torch_seed()\n",
        "\n",
        "# 最終レイヤー関数の付け替え\n",
        "in_features = net.classifier[6].in_features\n",
        "net.classifier[6] = nn.Linear(in_features, n_output)\n",
        "\n",
        "# features最後のMaxPool2dをはずす\n",
        "net.features = net.features[:-1]\n",
        "\n",
        "# AdaptiveAvgPool2dをはずす\n",
        "net.avgpool = nn.Identity()"
      ],
      "execution_count": null,
      "outputs": []
    },
    {
      "cell_type": "code",
      "metadata": {
        "id": "gSxeSTSxs-IU"
      },
      "source": [
        "# モデルのサマリー表示\n",
        "net = net.to(device)\n",
        "summary(net,(100,3,112,112))"
      ],
      "execution_count": null,
      "outputs": []
    },
    {
      "cell_type": "code",
      "metadata": {
        "id": "RFTQCXzxf1Z5"
      },
      "source": [
        "# 損失の計算グラフ可視化\n",
        "\n",
        "criterion = nn.CrossEntropyLoss()\n",
        "loss = eval_loss(test_loader, device, net, criterion)\n",
        "g = make_dot(loss, params=dict(net.named_parameters()))\n",
        "display(g)"
      ],
      "execution_count": null,
      "outputs": []
    },
    {
      "cell_type": "markdown",
      "metadata": {
        "id": "7pyG4IblkTd9"
      },
      "source": [
        "### 最適化関数などの定義"
      ]
    },
    {
      "cell_type": "code",
      "metadata": {
        "id": "CdexksrdiiV4"
      },
      "source": [
        "# 乱数の初期化\n",
        "torch_seed()\n",
        "\n",
        "# 事前学習済みモデルの読み込み\n",
        "net = models.vgg19_bn(pretrained = True)\n",
        "\n",
        "# 最終レイヤー関数の付け替え\n",
        "in_features = net.classifier[6].in_features\n",
        "net.classifier[6] = nn.Linear(in_features, n_output)\n",
        "\n",
        "# features最後のMaxPool2dをはずす\n",
        "net.features = net.features[:-1]\n",
        "\n",
        "# AdaptiveAvgPool2dをはずす\n",
        "net.avgpool = nn.Identity()\n",
        "\n",
        "# モデルをGPUに送付\n",
        "net = net.to(device)\n",
        "\n",
        "# 学習率\n",
        "lr = 0.001\n",
        "\n",
        "# 損失関数定義\n",
        "criterion = nn.CrossEntropyLoss()\n",
        "\n",
        "# 最適化関数定義\n",
        "optimizer = optim.SGD(net.parameters(), lr=lr, momentum=0.9)\n",
        "\n",
        "# historyの初期化\n",
        "history = np.zeros((0, 5))\n"
      ],
      "execution_count": null,
      "outputs": []
    },
    {
      "cell_type": "markdown",
      "metadata": {
        "id": "493nQooHk5cj"
      },
      "source": [
        "### 学習"
      ]
    },
    {
      "cell_type": "code",
      "metadata": {
        "id": "7AmPemwhVeGW"
      },
      "source": [
        "num_epochs = 5\n",
        "history = fit(net, optimizer, criterion, num_epochs, \n",
        "          train_loader, test_loader, device, history)"
      ],
      "execution_count": null,
      "outputs": []
    },
    {
      "cell_type": "markdown",
      "metadata": {
        "id": "VKLNtf3TlHFr"
      },
      "source": [
        "### 結果確認"
      ]
    },
    {
      "cell_type": "code",
      "metadata": {
        "id": "_pbeHENwlJ5E"
      },
      "source": [
        "# 結果サマリー\n",
        "evaluate_history(history)"
      ],
      "execution_count": null,
      "outputs": []
    },
    {
      "cell_type": "code",
      "metadata": {
        "id": "_47alfXWlKEO"
      },
      "source": [
        "# イメージと正解・予測結果の表示\n",
        "show_images_labels(test_loader, classes, net, device)"
      ],
      "execution_count": null,
      "outputs": []
    },
    {
      "cell_type": "markdown",
      "metadata": {
        "id": "2khLcqNOYVIR"
      },
      "source": [
        "## コラム CIFAR-10に転移学習を適用した場合\n"
      ]
    },
    {
      "cell_type": "code",
      "metadata": {
        "id": "5HCKyvj3YrHv"
      },
      "source": [
        "# 転移学習バージョン\n",
        "\n",
        "# 事前学習済みモデルの読み込み\n",
        "net = models.resnet18(pretrained = True)\n",
        "\n",
        "# すべてのパラメータで勾配計算をOFFにする\n",
        "for param in net.parameters():\n",
        "    param.requires_grad = False\n",
        "\n",
        "# 乱数初期化\n",
        "torch_seed()\n",
        "\n",
        "# 最終レイヤー関数の付け替え\n",
        "net.fc = nn.Linear(net.fc.in_features, n_output)\n",
        "\n",
        "# GPUの利用\n",
        "net = net.to(device)\n",
        "\n",
        "# 学習率\n",
        "lr = 0.001\n",
        "\n",
        "# 損失関数定義\n",
        "criterion = nn.CrossEntropyLoss()\n",
        "\n",
        "# 最適化関数定義\n",
        "# パラメータ変更は最終レイヤー関数に限定\n",
        "optimizer = optim.SGD(net.fc.parameters(), lr=lr, momentum=0.9)\n",
        "\n",
        "# historyファイル初期化する\n",
        "history = np.zeros((0, 5))"
      ],
      "execution_count": null,
      "outputs": []
    },
    {
      "cell_type": "code",
      "metadata": {
        "id": "c5XMUp3MYrKy"
      },
      "source": [
        "# 学習\n",
        "\n",
        "num_epochs = 5\n",
        "history = fit(net, optimizer, criterion, num_epochs, \n",
        "        train_loader, test_loader, device, history)"
      ],
      "execution_count": null,
      "outputs": []
    },
    {
      "cell_type": "code",
      "metadata": {
        "id": "SGoTdu5dYrPR"
      },
      "source": [
        "# 結果サマリー\n",
        "\n",
        "evaluate_history(history)"
      ],
      "execution_count": null,
      "outputs": []
    },
    {
      "cell_type": "markdown",
      "metadata": {
        "id": "wPwr5N4dSfWE"
      },
      "source": [
        "## コラム VGG-19-BNモデル修正の詳細"
      ]
    },
    {
      "cell_type": "markdown",
      "metadata": {
        "id": "OvtXB98XTlM7"
      },
      "source": [
        "### モデルの読み込み"
      ]
    },
    {
      "cell_type": "code",
      "metadata": {
        "id": "ItNhoRBmfKor"
      },
      "source": [
        "# 事前学習済みモデルの読み込み\n",
        "from torchvision import models\n",
        "net = models.vgg19_bn(pretrained = True)"
      ],
      "execution_count": null,
      "outputs": []
    },
    {
      "cell_type": "markdown",
      "metadata": {
        "id": "tMtX3CnaTzio"
      },
      "source": [
        "### モデルの構造の確認"
      ]
    },
    {
      "cell_type": "code",
      "metadata": {
        "id": "wdA6o1eIToDn"
      },
      "source": [
        "print(net)"
      ],
      "execution_count": null,
      "outputs": []
    },
    {
      "cell_type": "markdown",
      "metadata": {
        "id": "HXMyEQ9rUENc"
      },
      "source": [
        "### 中間テンソルの確認"
      ]
    },
    {
      "cell_type": "code",
      "metadata": {
        "id": "z_ZNR3IxT44L"
      },
      "source": [
        "# オリジナルデータサイズの場合\n",
        "net = net.to(device)\n",
        "summary(net,(100,3,224,224))"
      ],
      "execution_count": null,
      "outputs": []
    },
    {
      "cell_type": "code",
      "metadata": {
        "id": "vk4wdy77USfk"
      },
      "source": [
        "# 実習用データサイズの場合\n",
        "summary(net,(100,3,112,112))"
      ],
      "execution_count": null,
      "outputs": []
    },
    {
      "cell_type": "markdown",
      "metadata": {
        "id": "e85da4waWcBd"
      },
      "source": [
        "### レイヤー関数の付け替え"
      ]
    },
    {
      "cell_type": "code",
      "metadata": {
        "id": "9nI70QfzWf58"
      },
      "source": [
        "# 乱数初期化\n",
        "torch_seed()\n",
        "\n",
        "# 最終レイヤー関数の付け替え\n",
        "in_features = net.classifier[6].in_features\n",
        "net.classifier[6] = nn.Linear(in_features, n_output)"
      ],
      "execution_count": null,
      "outputs": []
    },
    {
      "cell_type": "code",
      "metadata": {
        "id": "juNRE0nEU0eh"
      },
      "source": [
        "# featuresの最後の要素(MaxPool2d)を落とす\n",
        "net.features = net.features[:-1]\n",
        "print(net.features)"
      ],
      "execution_count": null,
      "outputs": []
    },
    {
      "cell_type": "code",
      "metadata": {
        "id": "Beu83e6zVSj8"
      },
      "source": [
        "# avgpoolに入っているAdaptiveAvgPool2dを何もしない関数(nn.Identity)に置き換え\n",
        "net.avgpool = nn.Identity()"
      ],
      "execution_count": null,
      "outputs": []
    },
    {
      "cell_type": "markdown",
      "metadata": {
        "id": "ml6mgUa1Wltw"
      },
      "source": [
        "### 最終結果確認"
      ]
    },
    {
      "cell_type": "code",
      "metadata": {
        "id": "KXR3lzkDWQdl"
      },
      "source": [
        "print(net)"
      ],
      "execution_count": null,
      "outputs": []
    },
    {
      "cell_type": "code",
      "metadata": {
        "id": "UKHU3pGgXAZ3"
      },
      "source": [
        "# 実習用データサイズで中間テンソル確認\n",
        "net = net.to(device)\n",
        "summary(net,(100,3,112,112))"
      ],
      "execution_count": null,
      "outputs": []
    },
    {
      "cell_type": "code",
      "metadata": {
        "id": "I__UBcqxXKt0"
      },
      "source": [
        ""
      ],
      "execution_count": null,
      "outputs": []
    }
  ]
}