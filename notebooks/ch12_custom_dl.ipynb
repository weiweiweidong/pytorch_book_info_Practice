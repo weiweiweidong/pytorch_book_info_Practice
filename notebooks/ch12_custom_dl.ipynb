{
  "nbformat": 4,
  "nbformat_minor": 0,
  "metadata": {
    "accelerator": "GPU",
    "colab": {
      "name": "ch12_custom_dl.ipynb",
      "provenance": [],
      "collapsed_sections": [],
      "toc_visible": true
    },
    "kernelspec": {
      "display_name": "Python 3",
      "language": "python",
      "name": "python3"
    },
    "language_info": {
      "codemirror_mode": {
        "name": "ipython",
        "version": 3
      },
      "file_extension": ".py",
      "mimetype": "text/x-python",
      "name": "python",
      "nbconvert_exporter": "python",
      "pygments_lexer": "ipython3",
      "version": "3.8.5"
    }
  },
  "cells": [
    {
      "cell_type": "markdown",
      "metadata": {
        "id": "6LF5_Ea6qRFQ"
      },
      "source": [
        "# 12章 カスタムデータによる画像認識"
      ]
    },
    {
      "cell_type": "code",
      "metadata": {
        "id": "Rmvqz-691Wym"
      },
      "source": [
        "# 必要ライブラリ・コマンドの導入\n",
        "\n",
        "!pip install japanize_matplotlib | tail -n 1\n",
        "!pip install torchviz | tail -n 1\n",
        "!pip install torchinfo | tail -n 1\n",
        "w = !apt install tree\n",
        "print(w[-2])"
      ],
      "execution_count": null,
      "outputs": []
    },
    {
      "cell_type": "code",
      "metadata": {
        "id": "EBjRX49eqRFd"
      },
      "source": [
        "# 必要ライブラリのインポート\n",
        "\n",
        "%matplotlib inline\n",
        "import numpy as np\n",
        "import matplotlib.pyplot as plt\n",
        "import japanize_matplotlib"
      ],
      "execution_count": null,
      "outputs": []
    },
    {
      "cell_type": "code",
      "metadata": {
        "id": "hJy-mzVHqRFi"
      },
      "source": [
        "# PyTorch関連ライブラリのインポート\n",
        "\n",
        "import torch\n",
        "from torch import tensor\n",
        "import torch.nn as nn\n",
        "import torch.optim as optim\n",
        "from torchinfo import summary\n",
        "from torchviz import make_dot\n",
        "import torchvision.transforms as transforms\n",
        "from torch.utils.data import Dataset, DataLoader\n",
        "import torchvision.datasets as datasets"
      ],
      "execution_count": null,
      "outputs": []
    },
    {
      "cell_type": "code",
      "metadata": {
        "id": "zx2Zkbou1Nfc"
      },
      "source": [
        "# warning表示off\n",
        "import warnings\n",
        "warnings.simplefilter('ignore')\n",
        "\n",
        "# デフォルトフォントサイズ変更\n",
        "plt.rcParams['font.size'] = 14\n",
        "\n",
        "# デフォルトグラフサイズ変更\n",
        "plt.rcParams['figure.figsize'] = (6,6)\n",
        "\n",
        "# デフォルトで方眼表示ON\n",
        "plt.rcParams['axes.grid'] = True\n",
        "\n",
        "# numpyの表示桁数設定\n",
        "np.set_printoptions(suppress=True, precision=5)"
      ],
      "execution_count": null,
      "outputs": []
    },
    {
      "cell_type": "code",
      "metadata": {
        "id": "cqa0F-rK1WZu"
      },
      "source": [
        "# GPUチェック\n",
        "\n",
        "device = torch.device(\"cuda:0\" if torch.cuda.is_available() else \"cpu\")\n",
        "print(device)"
      ],
      "execution_count": null,
      "outputs": []
    },
    {
      "cell_type": "markdown",
      "metadata": {
        "id": "aXvDFn2a1bcc"
      },
      "source": [
        "### 共通関数の読み込み"
      ]
    },
    {
      "cell_type": "code",
      "metadata": {
        "id": "bLJx4mjqGsj1"
      },
      "source": [
        "# 共通関数のダウンロード\n",
        "!git clone https://github.com/makaishi2/pythonlibs.git\n",
        "\n",
        "# 共通関数のロード\n",
        "from pythonlibs.torch_lib1 import *\n",
        "\n",
        "# 共通関数の存在チェック\n",
        "print(README)"
      ],
      "execution_count": null,
      "outputs": []
    },
    {
      "cell_type": "markdown",
      "metadata": {
        "id": "obUglB5x18Lk"
      },
      "source": [
        "## 12.3 データ準備"
      ]
    },
    {
      "cell_type": "markdown",
      "metadata": {
        "id": "ZlHS2MHb2qer"
      },
      "source": [
        "### サンプルデータのダウンロード・解凍"
      ]
    },
    {
      "cell_type": "code",
      "metadata": {
        "id": "-utQupbe6dYb"
      },
      "source": [
        "# サンプルデータのダウンロード\n",
        "w = !wget -nc https://download.pytorch.org/tutorial/hymenoptera_data.zip\n",
        "\n",
        "# 結果確認\n",
        "print(w[-2])"
      ],
      "execution_count": null,
      "outputs": []
    },
    {
      "cell_type": "code",
      "metadata": {
        "id": "TpWlbLEiwX1e"
      },
      "source": [
        "# データ解凍\n",
        "w = !unzip -o hymenoptera_data.zip\n",
        "\n",
        "# 結果確認\n",
        "print(w[-1])"
      ],
      "execution_count": null,
      "outputs": []
    },
    {
      "cell_type": "code",
      "metadata": {
        "id": "PieDzc7gLsr_"
      },
      "source": [
        "# 解凍ファイルのtree表示\n",
        "!tree hymenoptera_data"
      ],
      "execution_count": null,
      "outputs": []
    },
    {
      "cell_type": "markdown",
      "metadata": {
        "id": "kLaShsdq4ESy"
      },
      "source": [
        "### Transforms定義"
      ]
    },
    {
      "cell_type": "code",
      "metadata": {
        "id": "ZyHMsmhyqRFu"
      },
      "source": [
        "# Transforms定義\n",
        "\n",
        "# 検証データ用 : 正規化のみ実施\n",
        "test_transform = transforms.Compose([\n",
        "    transforms.Resize(256),\n",
        "    transforms.CenterCrop(224),\n",
        "    transforms.ToTensor(),\n",
        "    transforms.Normalize(0.5, 0.5)\n",
        "])\n",
        "\n",
        "# 訓練データ用: 正規化に追加で反転とRandomErasingを実施\n",
        "train_transform = transforms.Compose([\n",
        "    transforms.RandomResizedCrop(224),\n",
        "    transforms.RandomHorizontalFlip(),\n",
        "    transforms.ToTensor(),\n",
        "    transforms.Normalize(0.5, 0.5),\n",
        "    transforms.RandomErasing(p=0.5, scale=(0.02, 0.33), ratio=(0.3, 3.3), value=0, inplace=False)\n",
        "])"
      ],
      "execution_count": null,
      "outputs": []
    },
    {
      "cell_type": "markdown",
      "metadata": {
        "id": "pBOU0Tz44f4v"
      },
      "source": [
        "### データセット定義"
      ]
    },
    {
      "cell_type": "code",
      "metadata": {
        "id": "4aT49QBiqRFr"
      },
      "source": [
        "# ツリーのベースディレクトリ\n",
        "data_dir = 'hymenoptera_data'\n",
        "\n",
        "# 訓練データディレクトリと検証データディレクトリの指定\n",
        "import os\n",
        "train_dir = os.path.join(data_dir, 'train')\n",
        "test_dir = os.path.join(data_dir, 'val')\n",
        "\n",
        "# join関数の結果確認\n",
        "print(train_dir, test_dir)\n",
        "\n",
        "# 分類先クラスのリスト作成\n",
        "classes = ['ants', 'bees']"
      ],
      "execution_count": null,
      "outputs": []
    },
    {
      "cell_type": "code",
      "metadata": {
        "id": "04h9gxZ54jrm"
      },
      "source": [
        "# データセット定義\n",
        "\n",
        "# 訓練用\n",
        "train_data = datasets.ImageFolder(train_dir, \n",
        "            transform=train_transform)\n",
        "# 訓練データのイメージ表示用\n",
        "train_data2 = datasets.ImageFolder(train_dir, \n",
        "            transform=test_transform)\n",
        "# 検証用\n",
        "test_data = datasets.ImageFolder(test_dir, \n",
        "            transform=test_transform)"
      ],
      "execution_count": null,
      "outputs": []
    },
    {
      "cell_type": "code",
      "metadata": {
        "id": "xCCha5Mc52s0"
      },
      "source": [
        "# データ件数確認\n",
        "\n",
        "print(f'訓練データ: {len(train_data)}件')\n",
        "print(f'検証データ: {len(test_data)}件')"
      ],
      "execution_count": null,
      "outputs": []
    },
    {
      "cell_type": "code",
      "metadata": {
        "id": "46ha7-dFnPqx"
      },
      "source": [
        "# 検証データ　\n",
        "# 最初の10個と最後の10個の表示\n",
        "\n",
        "plt.figure(figsize=(15, 4))\n",
        "for i in range(10):\n",
        "    ax = plt.subplot(2, 10, i + 1)\n",
        "    image, label = test_data[i]\n",
        "    img = (np.transpose(image.numpy(), (1, 2, 0)) + 1)/2\n",
        "    plt.imshow(img)\n",
        "    ax.set_title(classes[label])\n",
        "    ax.get_xaxis().set_visible(False)\n",
        "    ax.get_yaxis().set_visible(False)\n",
        "\n",
        "    ax = plt.subplot(2, 10, i + 11)\n",
        "    image, label = test_data[-i-1]\n",
        "    img = (np.transpose(image.numpy(), (1, 2, 0)) + 1)/2\n",
        "    plt.imshow(img)\n",
        "    ax.set_title(classes[label])\n",
        "    ax.get_xaxis().set_visible(False)\n",
        "    ax.get_yaxis().set_visible(False)\n",
        "\n",
        "plt.show()"
      ],
      "execution_count": null,
      "outputs": []
    },
    {
      "cell_type": "markdown",
      "metadata": {
        "id": "CCSHyuQl451E"
      },
      "source": [
        "### データローダー定義"
      ]
    },
    {
      "cell_type": "code",
      "metadata": {
        "id": "A_hhZVqn4j2q"
      },
      "source": [
        "# データローダー定義\n",
        "\n",
        "batch_size = 10\n",
        "\n",
        "# 訓練用\n",
        "train_loader = DataLoader(train_data, \n",
        "      batch_size=batch_size, shuffle=True)\n",
        "\n",
        "# 検証用\n",
        "test_loader = DataLoader(test_data, \n",
        "      batch_size=batch_size, shuffle=False)\n",
        "\n",
        "# イメージ表示用\n",
        "train_loader2 = DataLoader(train_data2, \n",
        "      batch_size=50, shuffle=True)\n",
        "test_loader2 = DataLoader(test_data, \n",
        "      batch_size=50, shuffle=True)"
      ],
      "execution_count": null,
      "outputs": []
    },
    {
      "cell_type": "markdown",
      "metadata": {
        "id": "WWsJGBllaxOB"
      },
      "source": [
        "### イメージ表示"
      ]
    },
    {
      "cell_type": "code",
      "metadata": {
        "id": "g1jc5OO-a3ay"
      },
      "source": [
        "# 検証用データ(50件)\n",
        "torch_seed()\n",
        "show_images_labels(test_loader2, classes, None, None)"
      ],
      "execution_count": null,
      "outputs": []
    },
    {
      "cell_type": "markdown",
      "metadata": {
        "id": "OEwE_MhaNFcQ"
      },
      "source": [
        "## 12.4 ファインチューニング版"
      ]
    },
    {
      "cell_type": "code",
      "metadata": {
        "id": "qxaYEOpNqRF5"
      },
      "source": [
        "# ファインチューニング版\n",
        "\n",
        "# 学習済みモデルの読み込み\n",
        "# vgg19_bnをパラメータ付きで読み込む\n",
        "from torchvision import models\n",
        "net = models.vgg19_bn(pretrained = True)\n",
        "\n",
        "# 乱数初期化\n",
        "torch_seed()\n",
        "\n",
        "# 最終ノードの出力を2に変更する\n",
        "in_features = net.classifier[6].in_features\n",
        "net.classifier[6] = nn.Linear(in_features, 2)\n",
        "\n",
        "# AdaptiveAvgPool2d関数の取り外し\n",
        "net.avgpool = nn.Identity()\n",
        "\n",
        "# GPUの利用\n",
        "net = net.to(device)\n",
        "\n",
        "# 学習率\n",
        "lr = 0.001\n",
        "\n",
        "# 損失関数定義\n",
        "criterion = nn.CrossEntropyLoss()\n",
        "\n",
        "# 最適化関数定義\n",
        "optimizer = optim.SGD(net.parameters(),lr=lr,momentum=0.9)\n",
        "\n",
        "# historyファイルも同時に初期化する\n",
        "history = np.zeros((0, 5))"
      ],
      "execution_count": null,
      "outputs": []
    },
    {
      "cell_type": "code",
      "metadata": {
        "id": "DoRR1aOJxwsG"
      },
      "source": [
        "# 学習\n",
        "num_epochs = 5\n",
        "history = fit(net, optimizer, criterion, num_epochs, \n",
        "          train_loader, test_loader, device, history)"
      ],
      "execution_count": null,
      "outputs": []
    },
    {
      "cell_type": "code",
      "metadata": {
        "id": "8g21SeazNhWM"
      },
      "source": [
        "# 結果確認\n",
        "evaluate_history(history)"
      ],
      "execution_count": null,
      "outputs": []
    },
    {
      "cell_type": "code",
      "metadata": {
        "id": "C3cR0v8DT0C-"
      },
      "source": [
        "# 乱数初期化\n",
        "torch_seed()\n",
        "\n",
        "# 検証データへの結果表示\n",
        "show_images_labels(test_loader2, classes, net, device)"
      ],
      "execution_count": null,
      "outputs": []
    },
    {
      "cell_type": "markdown",
      "metadata": {
        "id": "jsszNoIXN5NW"
      },
      "source": [
        "\n",
        "## 12.5 転移学習版"
      ]
    },
    {
      "cell_type": "code",
      "metadata": {
        "id": "Wm5kQFABbyGm"
      },
      "source": [
        "# vgg19_bnをパラメータ付きで読み込む\n",
        "from torchvision import models\n",
        "net = models.vgg19_bn(pretrained = True)\n",
        "\n",
        "# すべてのパラメータで勾配計算なしに\n",
        "for param in net.parameters():\n",
        "    param.requires_grad = False\n",
        "\n",
        "# 乱数初期化\n",
        "torch_seed()\n",
        "\n",
        "# 最終ノードの出力を2に変更する\n",
        "# このノードのみ勾配計算をすることになる\n",
        "in_features = net.classifier[6].in_features\n",
        "net.classifier[6] = nn.Linear(in_features, 2)\n",
        "\n",
        "# AdaptiveAvgPool2d関数の取り外し\n",
        "net.avgpool = nn.Identity()\n",
        "\n",
        "# GPUの利用\n",
        "net = net.to(device)\n",
        "\n",
        "# 学習率\n",
        "lr = 0.001\n",
        "\n",
        "# 損失関数定義\n",
        "criterion = nn.CrossEntropyLoss()\n",
        "\n",
        "# 最適化関数定義\n",
        "# パラメータ修正の対象を最終ノードに限定\n",
        "optimizer = optim.SGD(net.classifier[6].parameters(),lr=lr,momentum=0.9)\n",
        "\n",
        "# historyファイルも同時に初期化する\n",
        "history = np.zeros((0, 5))"
      ],
      "execution_count": null,
      "outputs": []
    },
    {
      "cell_type": "code",
      "metadata": {
        "id": "lYe7az8QxF6k"
      },
      "source": [
        "# 学習\n",
        "num_epochs = 5\n",
        "history = fit(net, optimizer, criterion, num_epochs, \n",
        "          train_loader, test_loader, device, history)"
      ],
      "execution_count": null,
      "outputs": []
    },
    {
      "cell_type": "code",
      "metadata": {
        "id": "HQmAWPvmqRF9"
      },
      "source": [
        "# 結果サマリー\n",
        "evaluate_history(history)"
      ],
      "execution_count": null,
      "outputs": []
    },
    {
      "cell_type": "code",
      "metadata": {
        "id": "YWcXW3D4OvBW"
      },
      "source": [
        "# 乱数初期化\n",
        "torch_seed()\n",
        "\n",
        "# 検証データへの結果表示\n",
        "show_images_labels(test_loader2, classes, net, device)"
      ],
      "execution_count": null,
      "outputs": []
    },
    {
      "cell_type": "markdown",
      "metadata": {
        "id": "hEFpvwzL3Yxn"
      },
      "source": [
        "## 12.6 ユーザー定義データの場合 \n",
        "シベリアンハスキーとオオカミの画像を利用  \n",
        "ダウンロード元  \n",
        "https://pixabay.com/ja/ "
      ]
    },
    {
      "cell_type": "markdown",
      "metadata": {
        "id": "Z4HwQvQ-BCqI"
      },
      "source": [
        "### データダウンロード・解凍"
      ]
    },
    {
      "cell_type": "code",
      "metadata": {
        "id": "HS7hQ-hwLssE"
      },
      "source": [
        "# データダウンロード\n",
        "w = !wget https://github.com/makaishi2/pythonlibs/raw/main/images/dog_wolf.zip\n",
        "print(w[-2])\n",
        "\n",
        "# 解凍\n",
        "!unzip dog_wolf.zip | tail -n 1\n",
        "\n",
        "# 解凍結果のツリー表示\n",
        "!tree dog_wolf"
      ],
      "execution_count": null,
      "outputs": []
    },
    {
      "cell_type": "markdown",
      "metadata": {
        "id": "l9SqXhI2VEI4"
      },
      "source": [
        "### Transforms定義"
      ]
    },
    {
      "cell_type": "code",
      "metadata": {
        "id": "1RLUFj7RLssE"
      },
      "source": [
        "# Transforms定義\n",
        "\n",
        "# 検証データ用 : 正規化のみ実施\n",
        "test_transform = transforms.Compose([\n",
        "    transforms.Resize(224),\n",
        "    transforms.CenterCrop(224),\n",
        "    transforms.ToTensor(),\n",
        "    transforms.Normalize(0.5, 0.5)\n",
        "])\n",
        "\n",
        "# 訓練データ用: 正規化に追加で反転とRandomErasingを実施\n",
        "train_transform = transforms.Compose([\n",
        "    transforms.RandomHorizontalFlip(p=0.5), \n",
        "    transforms.Resize(224),\n",
        "    transforms.CenterCrop(224),\n",
        "    transforms.ToTensor(),\n",
        "    transforms.Normalize(0.5, 0.5),\n",
        "    transforms.RandomErasing(p=0.5, scale=(0.02, 0.33), ratio=(0.3, 3.3), value=0, inplace=False)   \n",
        "])"
      ],
      "execution_count": null,
      "outputs": []
    },
    {
      "cell_type": "markdown",
      "metadata": {
        "id": "gc2t3uIHdSaw"
      },
      "source": [
        "### データセット定義"
      ]
    },
    {
      "cell_type": "code",
      "metadata": {
        "id": "YsaX1qNQ4HLf"
      },
      "source": [
        "# データセット定義\n",
        "\n",
        "data_dir = 'dog_wolf'\n",
        "\n",
        "import os\n",
        "train_dir = os.path.join(data_dir, 'train')\n",
        "test_dir = os.path.join(data_dir, 'test')\n",
        "\n",
        "classes = ['dog', 'wolf']\n",
        "\n",
        "train_data = datasets.ImageFolder(train_dir, \n",
        "            transform=train_transform)\n",
        "train_data2 = datasets.ImageFolder(train_dir, \n",
        "            transform=test_transform)\n",
        "test_data = datasets.ImageFolder(test_dir, \n",
        "            transform=test_transform)\n"
      ],
      "execution_count": null,
      "outputs": []
    },
    {
      "cell_type": "code",
      "metadata": {
        "id": "4sz6Hcv7B9Ln"
      },
      "source": [
        "# データ件数確認\n",
        "\n",
        "print(f'学習データ: {len(train_data)}件')\n",
        "print(f'検証データ: {len(test_data)}件')"
      ],
      "execution_count": null,
      "outputs": []
    },
    {
      "cell_type": "markdown",
      "metadata": {
        "id": "zW67cCTEdXTd"
      },
      "source": [
        "### データローダー定義"
      ]
    },
    {
      "cell_type": "code",
      "metadata": {
        "id": "XiihQJiBdapk"
      },
      "source": [
        "# データローダー定義\n",
        "\n",
        "batch_size = 5\n",
        "# 学習データ\n",
        "train_loader = DataLoader(train_data, \n",
        "            batch_size=batch_size, shuffle=True)\n",
        "# 学習データ　イメージ表示用\n",
        "train_loader2 = DataLoader(train_data2, \n",
        "            batch_size=40, shuffle=False)\n",
        "# 検証データ\n",
        "test_loader = DataLoader(test_data, \n",
        "            batch_size=batch_size, shuffle=False)\n",
        "# 検証データ　イメージ表示用\n",
        "test_loader2 = DataLoader(test_data, \n",
        "            batch_size=10, shuffle=True)"
      ],
      "execution_count": null,
      "outputs": []
    },
    {
      "cell_type": "markdown",
      "metadata": {
        "id": "58xpmTt-Vkxf"
      },
      "source": [
        "### イメージ表示"
      ]
    },
    {
      "cell_type": "code",
      "metadata": {
        "id": "Et00TY8ZVn6Q"
      },
      "source": [
        "# 訓練用データ(４0件)\n",
        "show_images_labels(train_loader2, classes, None, None)"
      ],
      "execution_count": null,
      "outputs": []
    },
    {
      "cell_type": "code",
      "metadata": {
        "id": "xYH_8XQbVoEY"
      },
      "source": [
        "# 検証用データ(10件)\n",
        "torch_seed()\n",
        "show_images_labels(test_loader2, classes, None, None)"
      ],
      "execution_count": null,
      "outputs": []
    },
    {
      "cell_type": "markdown",
      "metadata": {
        "id": "WEnkwdHid3rC"
      },
      "source": [
        "### モデル定義 (転移学習)"
      ]
    },
    {
      "cell_type": "code",
      "metadata": {
        "id": "8VTSEJZz7XEz"
      },
      "source": [
        "# 学習済みモデルの読み込み\n",
        "net = models.vgg19_bn(pretrained = True)\n",
        "\n",
        "for param in net.parameters():\n",
        "    param.requires_grad = False\n",
        "\n",
        "# 乱数初期化\n",
        "torch_seed()\n",
        "\n",
        "# 最終ノードの出力を2に変更する\n",
        "in_features = net.classifier[6].in_features\n",
        "net.classifier[6] = nn.Linear(in_features, 2)\n",
        "\n",
        "# AdaptiveAvgPool2d関数の取り外し\n",
        "net.avgpool = nn.Identity()\n",
        "\n",
        "# GPUの利用\n",
        "net = net.to(device)\n",
        "\n",
        "lr = 0.001\n",
        "# 損失関数定義\n",
        "criterion = nn.CrossEntropyLoss()\n",
        "\n",
        "# 最適化関数定義\n",
        "# パラメータ修正の対象を最終ノードに限定\n",
        "optimizer = optim.SGD(net.classifier[6].parameters(),lr=lr,momentum=0.9)\n",
        "\n",
        "# historyファイルも同時に初期化する\n",
        "history = np.zeros((0, 5))"
      ],
      "execution_count": null,
      "outputs": []
    },
    {
      "cell_type": "code",
      "metadata": {
        "id": "Gzdy_JX8Knc-"
      },
      "source": [
        "# 学習の実行\n",
        "\n",
        "num_epochs = 10\n",
        "history = fit(net, optimizer, criterion, num_epochs, \n",
        "          train_loader, test_loader, device, history)"
      ],
      "execution_count": null,
      "outputs": []
    },
    {
      "cell_type": "code",
      "metadata": {
        "id": "JbYowp9A8JCF"
      },
      "source": [
        "# 結果サマリー\n",
        "evaluate_history(history)"
      ],
      "execution_count": null,
      "outputs": []
    },
    {
      "cell_type": "code",
      "metadata": {
        "id": "FdHO0-IZ_EmC"
      },
      "source": [
        "# 予測結果表示\n",
        "torch_seed()\n",
        "show_images_labels(test_loader2, classes, net, device)"
      ],
      "execution_count": null,
      "outputs": []
    },
    {
      "cell_type": "code",
      "metadata": {
        "id": "16abE2RlRv6C"
      },
      "source": [
        "\n"
      ],
      "execution_count": null,
      "outputs": []
    }
  ]
}