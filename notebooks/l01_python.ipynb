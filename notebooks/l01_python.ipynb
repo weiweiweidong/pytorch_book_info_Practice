{
  "nbformat": 4,
  "nbformat_minor": 0,
  "metadata": {
    "colab": {
      "name": "l01_python.ipynb",
      "provenance": [],
      "collapsed_sections": [],
      "toc_visible": true
    },
    "kernelspec": {
      "display_name": "Python 3",
      "language": "python",
      "name": "python3"
    },
    "language_info": {
      "codemirror_mode": {
        "name": "ipython",
        "version": 3
      },
      "file_extension": ".py",
      "mimetype": "text/x-python",
      "name": "python",
      "nbconvert_exporter": "python",
      "pygments_lexer": "ipython3",
      "version": "3.8.5"
    }
  },
  "cells": [
    {
      "cell_type": "markdown",
      "metadata": {
        "id": "8PrD4L_92-EM"
      },
      "source": [
        "## 講座1 Python  入門"
      ]
    },
    {
      "cell_type": "markdown",
      "metadata": {
        "id": "PyYQrUX82-EP"
      },
      "source": [
        "#### 基本型"
      ]
    },
    {
      "cell_type": "code",
      "metadata": {
        "id": "ck6vpPgO2-EQ"
      },
      "source": [
        "# 整数型\n",
        "# 数値表現が整数の場合、代入先変数は自動的に整数型になります。\n",
        "a = 1\n",
        "\n",
        "# 浮動小数点数型\n",
        "# 数値表現に小数点が含まれると、代入先変数は自動的に浮動小数点型になります。\n",
        "b = 2.0\n",
        "\n",
        "# 文字列型\n",
        "# 文字列はシングルクオート(')で囲みます。\n",
        "# あるいはダブルクオート(\")でもいいです。\n",
        "c = 'abc'\n",
        "\n",
        "# ブーリアン型\n",
        "# True または False と取る変数の型です。\n",
        "d = True"
      ],
      "execution_count": null,
      "outputs": []
    },
    {
      "cell_type": "markdown",
      "metadata": {
        "id": "47rgVwXz2-EY"
      },
      "source": [
        "#### print関数とtype関数"
      ]
    },
    {
      "cell_type": "code",
      "metadata": {
        "id": "wPuoMzM42-EY"
      },
      "source": [
        "# 整数型変数aの値とtype\n",
        "print(a)\n",
        "print(type(a))"
      ],
      "execution_count": null,
      "outputs": []
    },
    {
      "cell_type": "code",
      "metadata": {
        "id": "cIu3RkVY2-Ef"
      },
      "source": [
        "# 浮動小数点数型変数bの値とtype\n",
        "print(b)\n",
        "print(type(b))"
      ],
      "execution_count": null,
      "outputs": []
    },
    {
      "cell_type": "code",
      "metadata": {
        "id": "cDyOLlVE2-Ep"
      },
      "source": [
        "# 文字列型変数cの値とtype'\n",
        "print(c)\n",
        "print(type(c))"
      ],
      "execution_count": null,
      "outputs": []
    },
    {
      "cell_type": "code",
      "metadata": {
        "id": "-eCkBPUd2-Ez"
      },
      "source": [
        "# ブーリアン型変数dの値とtype'\n",
        "print(d)\n",
        "print(type(d))"
      ],
      "execution_count": null,
      "outputs": []
    },
    {
      "cell_type": "markdown",
      "metadata": {
        "id": "HMcMwYOc2-E7"
      },
      "source": [
        "#### リスト"
      ]
    },
    {
      "cell_type": "code",
      "metadata": {
        "id": "yrRfmqkD2-E8"
      },
      "source": [
        "# リストの定義\n",
        "l = [1, 2, 3, 5, 8, 13]\n",
        "\n",
        "# リストの値とtype\n",
        "print(l)\n",
        "print(type(l))"
      ],
      "execution_count": null,
      "outputs": []
    },
    {
      "cell_type": "markdown",
      "metadata": {
        "id": "Hn9AiARl2-FH"
      },
      "source": [
        "#### リストの要素数"
      ]
    },
    {
      "cell_type": "code",
      "metadata": {
        "id": "BRJXtFFQ2-FI"
      },
      "source": [
        "# リストの要素数\n",
        "print(len(l))"
      ],
      "execution_count": null,
      "outputs": []
    },
    {
      "cell_type": "markdown",
      "metadata": {
        "id": "HwysVIUG2-FV"
      },
      "source": [
        "#### リストの要素参照"
      ]
    },
    {
      "cell_type": "code",
      "metadata": {
        "id": "DK2_14rD2-FV"
      },
      "source": [
        "# リストの要素参照\n",
        "\n",
        "# 最初の要素\n",
        "print(l[0])\n",
        "\n",
        "# 3番目の要素\n",
        "print(l[2])\n",
        "\n",
        "# 最後の要素 (こういう指定方法も可能)\n",
        "print(l[-1])"
      ],
      "execution_count": null,
      "outputs": []
    },
    {
      "cell_type": "markdown",
      "metadata": {
        "id": "gQLlKCZgEMLI"
      },
      "source": [
        "#### 部分リスト参照1"
      ]
    },
    {
      "cell_type": "code",
      "metadata": {
        "id": "8RYCaj51EMLJ"
      },
      "source": [
        "# 部分リスト インデックス:2以上 インデックス: 5未満\n",
        "print(l[2:5])\n",
        "\n",
        "# 部分リスト インデックス:0以上 インデックス: 3未満\n",
        "print(l[0:3])\n",
        "\n",
        "# 開始インデックスが0の場合は省略可\n",
        "print(l[:3])"
      ],
      "execution_count": null,
      "outputs": []
    },
    {
      "cell_type": "markdown",
      "metadata": {
        "id": "vYfz451iEMLJ"
      },
      "source": [
        "#### 部分リスト参照2"
      ]
    },
    {
      "cell_type": "code",
      "metadata": {
        "id": "gteronENEMLJ"
      },
      "source": [
        "# 部分リスト インデックス:4以上最後まで\n",
        "# リストの長さを求める\n",
        "n = len(l) \n",
        "print(l[4:n])\n",
        "\n",
        "# 最終インデックスが最終要素の場合は省略可\n",
        "print(l[4:])\n",
        "\n",
        "# 後ろから2つ\n",
        "print(l[-2:])\n",
        "\n",
        "#最初も最後も省略するとリスト全体になる\n",
        "print(l[:])"
      ],
      "execution_count": null,
      "outputs": []
    },
    {
      "cell_type": "markdown",
      "metadata": {
        "id": "0BcEDGw52-Fg"
      },
      "source": [
        "#### タプル"
      ]
    },
    {
      "cell_type": "code",
      "metadata": {
        "id": "clsh-h9U2-Fj"
      },
      "source": [
        "# タプルの定義\n",
        "t = (1, 2, 3, 5, 8, 13)\n",
        "\n",
        "# タプルの値表示\n",
        "print(t)\n",
        "\n",
        "# タプルの型表示\n",
        "print(type(t))\n",
        "\n",
        "# タプルの要素数\n",
        "print(len(t))\n",
        "\n",
        "# タプルの要素参照\n",
        "print(t[1])"
      ],
      "execution_count": null,
      "outputs": []
    },
    {
      "cell_type": "code",
      "metadata": {
        "id": "Ab5jH3-B2-Fn"
      },
      "source": [
        "t[1] = 1"
      ],
      "execution_count": null,
      "outputs": []
    },
    {
      "cell_type": "code",
      "metadata": {
        "id": "0H7QX-AS2-Fq"
      },
      "source": [
        "x = 1\n",
        "y = 2\n",
        "z = (x, y)\n",
        "print(type(z))"
      ],
      "execution_count": null,
      "outputs": []
    },
    {
      "cell_type": "code",
      "metadata": {
        "id": "U3hYst__2-Ft"
      },
      "source": [
        "a, b = z\n",
        "print(a)\n",
        "print(b)"
      ],
      "execution_count": null,
      "outputs": []
    },
    {
      "cell_type": "markdown",
      "metadata": {
        "id": "vWpZdRag2-GJ"
      },
      "source": [
        "### 辞書"
      ]
    },
    {
      "cell_type": "markdown",
      "metadata": {
        "id": "qKh9XKnF2-GK"
      },
      "source": [
        "#### 辞書の定義"
      ]
    },
    {
      "cell_type": "code",
      "metadata": {
        "id": "2jPrrpfP2-GK"
      },
      "source": [
        "# 辞書の定義\n",
        "my_dict = {'yes': 1, 'no': 0}\n",
        "\n",
        "# print文の結果\n",
        "print(my_dict)\n",
        "\n",
        "# type関数の結果\n",
        "print(type(my_dict))"
      ],
      "execution_count": null,
      "outputs": []
    },
    {
      "cell_type": "markdown",
      "metadata": {
        "id": "toUV79K72-GR"
      },
      "source": [
        "#### 辞書の参照"
      ]
    },
    {
      "cell_type": "code",
      "metadata": {
        "id": "20DLuIRv2-GS"
      },
      "source": [
        "# キーから値を参照\n",
        "\n",
        "# key= 'yes'で検索\n",
        "value1 = my_dict['yes']\n",
        "print(value1)\n",
        "\n",
        "# key='no'で検索\n",
        "value2 = my_dict['no']\n",
        "print(value2)"
      ],
      "execution_count": null,
      "outputs": []
    },
    {
      "cell_type": "markdown",
      "metadata": {
        "id": "ePA6aK2I2-GV"
      },
      "source": [
        "#### 辞書への項目追加"
      ]
    },
    {
      "cell_type": "code",
      "metadata": {
        "id": "nCsydOXH2-GW"
      },
      "source": [
        "# 辞書への項目追加\n",
        "my_dict['neutral'] = 2\n",
        "\n",
        "# 結果確認\n",
        "print(my_dict)"
      ],
      "execution_count": null,
      "outputs": []
    },
    {
      "cell_type": "markdown",
      "metadata": {
        "id": "7A6JEafr2-Ga"
      },
      "source": [
        "### 制御構造"
      ]
    },
    {
      "cell_type": "markdown",
      "metadata": {
        "id": "83WIdtTd2-Ga"
      },
      "source": [
        "#### ループ処理"
      ]
    },
    {
      "cell_type": "code",
      "metadata": {
        "id": "5SqhNLCZ2-Gb"
      },
      "source": [
        "# ループ処理\n",
        "\n",
        "# リストの定義\n",
        "list4 = ['One', 'Two', 'Three', 'Four']\n",
        "\n",
        "# ループ処理\n",
        "for item in list4:\n",
        "    print(item)"
      ],
      "execution_count": null,
      "outputs": []
    },
    {
      "cell_type": "code",
      "metadata": {
        "id": "t-lTQuz22-Gh"
      },
      "source": [
        "# range関数を使ったループ処理\n",
        "\n",
        "for item in range(4):\n",
        "    print(item)"
      ],
      "execution_count": null,
      "outputs": []
    },
    {
      "cell_type": "code",
      "metadata": {
        "id": "QkzvKe852-Gl"
      },
      "source": [
        "# 引数2つのrange関数\n",
        "\n",
        "for item in range(1, 5):\n",
        "    print(item)"
      ],
      "execution_count": null,
      "outputs": []
    },
    {
      "cell_type": "code",
      "metadata": {
        "id": "OLqB-ql82-Gq"
      },
      "source": [
        "# 辞書とループ処理\n",
        "\n",
        "# items関数\n",
        "print(my_dict.items())\n",
        "\n",
        "# items関数を使ったループ処理\n",
        "\n",
        "for key, value in my_dict.items():\n",
        "    print(key, ':', value )"
      ],
      "execution_count": null,
      "outputs": []
    },
    {
      "cell_type": "markdown",
      "metadata": {
        "id": "Lh4fff352-Gt"
      },
      "source": [
        "#### if文"
      ]
    },
    {
      "cell_type": "code",
      "metadata": {
        "id": "Zol5399N2-Gt"
      },
      "source": [
        "# if文のサンプル\n",
        "for i in range(1, 5):\n",
        "    if i % 2 == 0:\n",
        "        print(i, 'は偶数です')\n",
        "    else:\n",
        "        print(i, 'は奇数です')"
      ],
      "execution_count": null,
      "outputs": []
    },
    {
      "cell_type": "markdown",
      "metadata": {
        "id": "fIXxsX3Y2-G5"
      },
      "source": [
        "####  関数"
      ]
    },
    {
      "cell_type": "code",
      "metadata": {
        "id": "WKW7xi332-G5"
      },
      "source": [
        "# 関数の定義例1\n",
        "def square(x):\n",
        "    p2 = x * x\n",
        "    return p2\n",
        "\n",
        "# 関数の呼び出し例1\n",
        "x1 = 13\n",
        "r1 = square(x1)\n",
        "print(x1, r1)"
      ],
      "execution_count": null,
      "outputs": []
    },
    {
      "cell_type": "code",
      "metadata": {
        "id": "EnWVLp8o2-G_"
      },
      "source": [
        "#  関数の定義例2\n",
        "def squares(x):\n",
        "    p2 = x * x\n",
        "    p3= x * x * x\n",
        "    return (p2, p3)\n",
        "\n",
        "# 関数の呼び出し例2\n",
        "x1 = 13\n",
        "p2, p3 = squares(x1)\n",
        "print(x1, p2, p3)"
      ],
      "execution_count": null,
      "outputs": []
    },
    {
      "cell_type": "markdown",
      "metadata": {
        "id": "-lBmLd-D2-HC"
      },
      "source": [
        "#### ライプラリの導入"
      ]
    },
    {
      "cell_type": "code",
      "metadata": {
        "id": "coRwycFH2-HD"
      },
      "source": [
        "# 日本語化ライブラリ導入\n",
        "!pip install japanize-matplotlib | tail -n 1"
      ],
      "execution_count": null,
      "outputs": []
    },
    {
      "cell_type": "markdown",
      "metadata": {
        "id": "pIlNIJ5b2-HF"
      },
      "source": [
        "#### import文"
      ]
    },
    {
      "cell_type": "code",
      "metadata": {
        "id": "4256qlzn2-HG"
      },
      "source": [
        "# 必要ライブラリのimport\n",
        "import pandas as pd\n",
        "import numpy as np\n",
        "import matplotlib.pyplot as plt\n",
        "\n",
        "# matplotlib日本語化対応\n",
        "import japanize_matplotlib\n",
        "\n",
        "# データフレーム表示用関数\n",
        "from IPython.display import display"
      ],
      "execution_count": null,
      "outputs": []
    },
    {
      "cell_type": "markdown",
      "metadata": {
        "id": "HwEohvnZ2-HT"
      },
      "source": [
        "#### ワーニング非表示"
      ]
    },
    {
      "cell_type": "code",
      "metadata": {
        "id": "dBVuCfby2-HT"
      },
      "source": [
        "# 余分なワーニングを非表示にする\n",
        "import warnings\n",
        "warnings.filterwarnings('ignore')"
      ],
      "execution_count": null,
      "outputs": []
    },
    {
      "cell_type": "markdown",
      "metadata": {
        "id": "sBjLfxG02-HY"
      },
      "source": [
        "#### 数値の整形表示"
      ]
    },
    {
      "cell_type": "code",
      "metadata": {
        "id": "kRbJQtIu2-HZ"
      },
      "source": [
        "# f文字列の表示\n",
        "a1 = 1.0/7.0\n",
        "a2 = 123\n",
        "\n",
        "str1 = f'a1 = {a1}   a2 = {a2}'\n",
        "print(str1)"
      ],
      "execution_count": null,
      "outputs": []
    },
    {
      "cell_type": "code",
      "metadata": {
        "id": "U-J22Vwg2-Hc"
      },
      "source": [
        "# f文字列の詳細オプション\n",
        "\n",
        "# .4f 小数点以下4桁の固定小数点表示\n",
        "# 04 整数を0詰め4桁表示\n",
        "str2 = f'a1 = {a1:.4f}  a2 = {a2:04}'\n",
        "print(str2)\n",
        "\n",
        "# 04e 小数点以下4桁の浮動小数点表示\n",
        "# #x 整数の16進数表示\n",
        "str3 = f'a1 = {a1:.04e}  a2 = {a2:#x}'\n",
        "print(str3)"
      ],
      "execution_count": null,
      "outputs": []
    },
    {
      "cell_type": "code",
      "metadata": {
        "id": "6fN1g2E42-Hj"
      },
      "source": [
        ""
      ],
      "execution_count": null,
      "outputs": []
    }
  ]
}