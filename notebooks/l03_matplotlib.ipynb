{
  "nbformat": 4,
  "nbformat_minor": 0,
  "metadata": {
    "colab": {
      "name": "l03_matplotlib.ipynb",
      "provenance": [],
      "collapsed_sections": [],
      "toc_visible": true
    },
    "kernelspec": {
      "display_name": "Python 3",
      "language": "python",
      "name": "python3"
    },
    "language_info": {
      "codemirror_mode": {
        "name": "ipython",
        "version": 3
      },
      "file_extension": ".py",
      "mimetype": "text/x-python",
      "name": "python",
      "nbconvert_exporter": "python",
      "pygments_lexer": "ipython3",
      "version": "3.8.5"
    }
  },
  "cells": [
    {
      "cell_type": "markdown",
      "metadata": {
        "id": "5IMxZQV61P12"
      },
      "source": [
        "## 講座3 Matplotlinb入門"
      ]
    },
    {
      "cell_type": "code",
      "metadata": {
        "id": "CVHsV3PP1P13"
      },
      "source": [
        "# 日本語化ライブラリ導入\n",
        "!pip install japanize-matplotlib | tail -n 1"
      ],
      "execution_count": null,
      "outputs": []
    },
    {
      "cell_type": "code",
      "metadata": {
        "id": "pje_TMrPZIJQ"
      },
      "source": [
        "# 共通事前処理のうち、Matplotlibに関係あるもの\n",
        "import matplotlib.pyplot as plt\n",
        "\n",
        "# matplotlib日本語化対応\n",
        "import japanize_matplotlib"
      ],
      "execution_count": null,
      "outputs": []
    },
    {
      "cell_type": "code",
      "metadata": {
        "id": "gCLigwq3ZIJR"
      },
      "source": [
        "# デフォルトパラメータ設定\n",
        "\n",
        "# デフォルトフォントサイズ変更\n",
        "# 都度設定する場合は、plt.legend(fontsize=14) など\n",
        "plt.rcParams['font.size'] = 14\n",
        "\n",
        "# デフォルトグラフサイズ変更\n",
        "# 都度設定する場合は plt.figure(figsize=(6,6))\n",
        "plt.rcParams['figure.figsize'] = (6,6)\n",
        "\n",
        "# デフォルトで方眼表示ON\n",
        "# 都度設定する場合は plt.grid()\n",
        "plt.rcParams['axes.grid'] = True"
      ],
      "execution_count": null,
      "outputs": []
    },
    {
      "cell_type": "code",
      "metadata": {
        "id": "EeFtwc6P1P18"
      },
      "source": [
        "# 共通事前処理\n",
        "\n",
        "# 余分なワーニングを非表示にする\n",
        "import warnings\n",
        "warnings.filterwarnings('ignore')\n",
        "\n",
        "# 必要ライブラリのimport\n",
        "import numpy as np"
      ],
      "execution_count": null,
      "outputs": []
    },
    {
      "cell_type": "markdown",
      "metadata": {
        "id": "u-fIeytl1P1_"
      },
      "source": [
        "### 1. pltによる簡易描画"
      ]
    },
    {
      "cell_type": "markdown",
      "metadata": {
        "id": "udaKCL-L1P1_"
      },
      "source": [
        "#### 散布図"
      ]
    },
    {
      "cell_type": "code",
      "metadata": {
        "id": "Es-WNkfv1P1_"
      },
      "source": [
        "# データ準備\n",
        "import seaborn as sns\n",
        "df_iris = sns.load_dataset(\"iris\") \n",
        "\n",
        "# 結果確認\n",
        "print(df_iris.head())\n",
        "\n",
        "# 散布図x座標用配列\n",
        "xs = df_iris['sepal_length'].values\n",
        "\n",
        "# 散布図y座標用配列\n",
        "ys = df_iris['sepal_width'].values"
      ],
      "execution_count": null,
      "outputs": []
    },
    {
      "cell_type": "code",
      "metadata": {
        "id": "UGxEsn0X1P2C"
      },
      "source": [
        "# 散布図\n",
        "plt.scatter(xs, ys)\n",
        "\n",
        "# 描画\n",
        "plt.show()"
      ],
      "execution_count": null,
      "outputs": []
    },
    {
      "cell_type": "markdown",
      "metadata": {
        "id": "y7Ahnm431P2F"
      },
      "source": [
        "#### 関数グラフ"
      ]
    },
    {
      "cell_type": "code",
      "metadata": {
        "id": "1xx8yyay1P2F"
      },
      "source": [
        "# データ準備\n",
        "\n",
        "# シグモイド関数の定義\n",
        "def sigmoid(x, a):\n",
        "    return 1/(1 + np.exp(-a*x))\n",
        "\n",
        "# グラフ描画用x座標リスト\n",
        "xp = np.linspace(-3, 3, 61)\n",
        "yp = sigmoid(xp, 1.0)\n",
        "yp2 = sigmoid(xp, 2.0)"
      ],
      "execution_count": null,
      "outputs": []
    },
    {
      "cell_type": "markdown",
      "metadata": {
        "id": "nARycg6a1P2K"
      },
      "source": [
        "#### 単純な例"
      ]
    },
    {
      "cell_type": "code",
      "metadata": {
        "id": "ProeQEHq1P2K"
      },
      "source": [
        "# グラフ描画\n",
        "plt.plot(xp, yp)\n",
        "\n",
        "# 描画\n",
        "plt.show()"
      ],
      "execution_count": null,
      "outputs": []
    },
    {
      "cell_type": "markdown",
      "metadata": {
        "id": "Ksn0T5h71P2O"
      },
      "source": [
        "#### 複雑な例"
      ]
    },
    {
      "cell_type": "code",
      "metadata": {
        "id": "we62RKgU1P2O"
      },
      "source": [
        "#ラベル付きグラフ描画 #1\n",
        "plt.plot(xp, yp, \n",
        "         label='シグモイド関数1', lw=3, c='k')\n",
        "\n",
        "# ラベル付きグラフ描画 #2\n",
        "plt.plot(xp, yp2, \n",
        "         label='シグモイド関数2', lw=2, c='b')\n",
        "\n",
        "# 凡例表示\n",
        "plt.legend()\n",
        "\n",
        "# 軸表示\n",
        "plt.xlabel('x軸')\n",
        "plt.ylabel('y軸')\n",
        "\n",
        "# 描画\n",
        "plt.show()"
      ],
      "execution_count": null,
      "outputs": []
    },
    {
      "cell_type": "markdown",
      "metadata": {
        "id": "pXY-prC71P2W"
      },
      "source": [
        "### 2. subplotを使った複数グラフの同時描画"
      ]
    },
    {
      "cell_type": "code",
      "metadata": {
        "id": "jEPCWTgQ1P2X"
      },
      "source": [
        "# データ準備\n",
        "\n",
        "# 手書き数字データ\n",
        "# 時間がかかるので注意してください\n",
        "from sklearn.datasets import fetch_openml\n",
        "mnist = fetch_openml('mnist_784', version=1,as_frame=False)\n",
        "\n",
        "# イメージデータ\n",
        "image = mnist.data\n",
        "# 正解データ\n",
        "label = mnist.target"
      ],
      "execution_count": null,
      "outputs": []
    },
    {
      "cell_type": "code",
      "metadata": {
        "id": "n8IJVncG1P2Z"
      },
      "source": [
        "# サイズ指定\n",
        "plt.figure(figsize=(10, 3))\n",
        "\n",
        "# 20個のイメージを表示\n",
        "for i in range(20): \n",
        "    \n",
        "    # i 番目のax変数取得\n",
        "    ax = plt.subplot(2, 10, i+1)\n",
        "    \n",
        "    # i番目のイメージデータ取得し28x28に変換\n",
        "    img = image[i].reshape(28,28)\n",
        "    \n",
        "    # imgをイメージ表示\n",
        "    ax.imshow(img, cmap='gray_r')\n",
        "    \n",
        "    # 正解データをタイトル表示\n",
        "    ax.set_title(label[i])\n",
        "    \n",
        "    # x, y目盛非表示\n",
        "    ax.set_xticks([])\n",
        "    ax.set_yticks([])\n",
        "    \n",
        "# 隣接オブジェクトとぶつからないようにする\n",
        "plt.tight_layout()\n",
        "\n",
        "# 表示\n",
        "plt.show() "
      ],
      "execution_count": null,
      "outputs": []
    },
    {
      "cell_type": "code",
      "metadata": {
        "id": "IkouPeL-1P2k"
      },
      "source": [
        ""
      ],
      "execution_count": null,
      "outputs": []
    }
  ]
}